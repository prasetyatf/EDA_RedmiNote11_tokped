{
 "metadata": {
  "language_info": {
   "codemirror_mode": {
    "name": "ipython",
    "version": 3
   },
   "file_extension": ".py",
   "mimetype": "text/x-python",
   "name": "python",
   "nbconvert_exporter": "python",
   "pygments_lexer": "ipython3",
   "version": "3.8.6-final"
  },
  "orig_nbformat": 2,
  "kernelspec": {
   "name": "python38632bit1410168d057a4958a3f64ea7907d3b18",
   "display_name": "Python 3.8.6 32-bit"
  }
 },
 "nbformat": 4,
 "nbformat_minor": 2,
 "cells": [
  {
   "cell_type": "code",
   "execution_count": 1,
   "metadata": {},
   "outputs": [],
   "source": [
    "import pandas as pd\n",
    "import numpy as np\n",
    "import seaborn as sns\n",
    "import matplotlib.pyplot as plt"
   ]
  },
  {
   "cell_type": "code",
   "execution_count": null,
   "metadata": {},
   "outputs": [],
   "source": [
    "# kelompokkan produk terjual berdasar nama toko\n",
    "# urutkan dari penjualan produk terbanyak\n",
    "# kelompokkan views berdasarkan nama toko\n",
    "# urutkan dari views terbanyak"
   ]
  },
  {
   "cell_type": "code",
   "execution_count": 2,
   "metadata": {},
   "outputs": [
    {
     "output_type": "execute_result",
     "data": {
      "text/plain": [
       "                                          Product Name    Price    Category  \\\n",
       "133  Xiaomi Redmi Note 11 4/128 GB Garansi Resmi - ...  2481000  Android OS   \n",
       "165  Redmi Note 11 4GB 128GB Smartphone - Graphite ...  2499000  Android OS   \n",
       "102  XIAOMI REDMI NOTE 11 4/128 GB GARANSI RESMI - ...  2469000  Android OS   \n",
       "99                Redmi Note 11 4/128 GB Garansi Resmi  2460000  Android OS   \n",
       "43   Xiaomi Redmi Note 11 4/128 GB Garansi Resmi - ...  2434950  Android OS   \n",
       "..                                                 ...      ...         ...   \n",
       "177  REDMI NOTE 11 4/128 GB SEGEL. ORIGINAL. GARANS...  2510000  Android OS   \n",
       "179                   Redmi Note 11 4GB+128GB - Random  2514000  Android OS   \n",
       "181         Xiaomi Redmi Note 11 - 4GB/128GB - Abu-abu  2520000  Android OS   \n",
       "182               Redmi Note 11 4/128 Gb Garansi Resmi  2520000  Android OS   \n",
       "287         SALE REDMI NOTE 11 4/128 GARANSI RESMI NEW  4159000  Android OS   \n",
       "\n",
       "               Seller Name          Location  \\\n",
       "133              Gudang-HP     Jakarta Pusat   \n",
       "165  Xiaomi Official Store     Jakarta Utara   \n",
       "102          Q-Store Pedia     Jakarta Pusat   \n",
       "99          Divergent True    Kab. Mojokerto   \n",
       "43         Erwin Nugrawati     Kab. Ponorogo   \n",
       "..                     ...               ...   \n",
       "177           AxCell Store   Kota Yogyakarta   \n",
       "179               PARASING  Kab. Kulon Progo   \n",
       "181          Komunika Sell   Jakarta Selatan   \n",
       "182           Arizki Phone       Kab. Bantul   \n",
       "287            angel toko2     Jakarta Barat   \n",
       "\n",
       "                                           Product URL  Sold  Views  Reviews  \\\n",
       "133  https://www.tokopedia.com/gudang-hp/xiaomi-red...   553  17696      123   \n",
       "165  https://www.tokopedia.com/xiaomi/redmi-note-11...   499  66017      263   \n",
       "102  https://www.tokopedia.com/q-storepedia/xiaomi-...   348   3208       66   \n",
       "99   https://www.tokopedia.com/divergenttrue/redmi-...   335   1680       71   \n",
       "43   https://www.tokopedia.com/erwinnugrawati/xiaom...   312   1217       64   \n",
       "..                                                 ...   ...    ...      ...   \n",
       "177  https://www.tokopedia.com/axcellstore-1/redmi-...     0      2        0   \n",
       "179  https://www.tokopedia.com/parasing/redmi-note-...     0      9        0   \n",
       "181  https://www.tokopedia.com/komunikasell/xiaomi-...     0      2        0   \n",
       "182  https://www.tokopedia.com/arizki-phone/redmi-n...     0     17        0   \n",
       "287  https://www.tokopedia.com/angeltoko2/sale-redm...     0      0        0   \n",
       "\n",
       "     Rating  \n",
       "133     5.0  \n",
       "165     4.9  \n",
       "102     5.0  \n",
       "99      5.0  \n",
       "43      5.0  \n",
       "..      ...  \n",
       "177     0.0  \n",
       "179     0.0  \n",
       "181     0.0  \n",
       "182     0.0  \n",
       "287     0.0  \n",
       "\n",
       "[288 rows x 10 columns]"
      ],
      "text/html": "<div>\n<style scoped>\n    .dataframe tbody tr th:only-of-type {\n        vertical-align: middle;\n    }\n\n    .dataframe tbody tr th {\n        vertical-align: top;\n    }\n\n    .dataframe thead th {\n        text-align: right;\n    }\n</style>\n<table border=\"1\" class=\"dataframe\">\n  <thead>\n    <tr style=\"text-align: right;\">\n      <th></th>\n      <th>Product Name</th>\n      <th>Price</th>\n      <th>Category</th>\n      <th>Seller Name</th>\n      <th>Location</th>\n      <th>Product URL</th>\n      <th>Sold</th>\n      <th>Views</th>\n      <th>Reviews</th>\n      <th>Rating</th>\n    </tr>\n  </thead>\n  <tbody>\n    <tr>\n      <th>133</th>\n      <td>Xiaomi Redmi Note 11 4/128 GB Garansi Resmi - ...</td>\n      <td>2481000</td>\n      <td>Android OS</td>\n      <td>Gudang-HP</td>\n      <td>Jakarta Pusat</td>\n      <td>https://www.tokopedia.com/gudang-hp/xiaomi-red...</td>\n      <td>553</td>\n      <td>17696</td>\n      <td>123</td>\n      <td>5.0</td>\n    </tr>\n    <tr>\n      <th>165</th>\n      <td>Redmi Note 11 4GB 128GB Smartphone - Graphite ...</td>\n      <td>2499000</td>\n      <td>Android OS</td>\n      <td>Xiaomi Official Store</td>\n      <td>Jakarta Utara</td>\n      <td>https://www.tokopedia.com/xiaomi/redmi-note-11...</td>\n      <td>499</td>\n      <td>66017</td>\n      <td>263</td>\n      <td>4.9</td>\n    </tr>\n    <tr>\n      <th>102</th>\n      <td>XIAOMI REDMI NOTE 11 4/128 GB GARANSI RESMI - ...</td>\n      <td>2469000</td>\n      <td>Android OS</td>\n      <td>Q-Store Pedia</td>\n      <td>Jakarta Pusat</td>\n      <td>https://www.tokopedia.com/q-storepedia/xiaomi-...</td>\n      <td>348</td>\n      <td>3208</td>\n      <td>66</td>\n      <td>5.0</td>\n    </tr>\n    <tr>\n      <th>99</th>\n      <td>Redmi Note 11 4/128 GB Garansi Resmi</td>\n      <td>2460000</td>\n      <td>Android OS</td>\n      <td>Divergent True</td>\n      <td>Kab. Mojokerto</td>\n      <td>https://www.tokopedia.com/divergenttrue/redmi-...</td>\n      <td>335</td>\n      <td>1680</td>\n      <td>71</td>\n      <td>5.0</td>\n    </tr>\n    <tr>\n      <th>43</th>\n      <td>Xiaomi Redmi Note 11 4/128 GB Garansi Resmi - ...</td>\n      <td>2434950</td>\n      <td>Android OS</td>\n      <td>Erwin Nugrawati</td>\n      <td>Kab. Ponorogo</td>\n      <td>https://www.tokopedia.com/erwinnugrawati/xiaom...</td>\n      <td>312</td>\n      <td>1217</td>\n      <td>64</td>\n      <td>5.0</td>\n    </tr>\n    <tr>\n      <th>...</th>\n      <td>...</td>\n      <td>...</td>\n      <td>...</td>\n      <td>...</td>\n      <td>...</td>\n      <td>...</td>\n      <td>...</td>\n      <td>...</td>\n      <td>...</td>\n      <td>...</td>\n    </tr>\n    <tr>\n      <th>177</th>\n      <td>REDMI NOTE 11 4/128 GB SEGEL. ORIGINAL. GARANS...</td>\n      <td>2510000</td>\n      <td>Android OS</td>\n      <td>AxCell Store</td>\n      <td>Kota Yogyakarta</td>\n      <td>https://www.tokopedia.com/axcellstore-1/redmi-...</td>\n      <td>0</td>\n      <td>2</td>\n      <td>0</td>\n      <td>0.0</td>\n    </tr>\n    <tr>\n      <th>179</th>\n      <td>Redmi Note 11 4GB+128GB - Random</td>\n      <td>2514000</td>\n      <td>Android OS</td>\n      <td>PARASING</td>\n      <td>Kab. Kulon Progo</td>\n      <td>https://www.tokopedia.com/parasing/redmi-note-...</td>\n      <td>0</td>\n      <td>9</td>\n      <td>0</td>\n      <td>0.0</td>\n    </tr>\n    <tr>\n      <th>181</th>\n      <td>Xiaomi Redmi Note 11 - 4GB/128GB - Abu-abu</td>\n      <td>2520000</td>\n      <td>Android OS</td>\n      <td>Komunika Sell</td>\n      <td>Jakarta Selatan</td>\n      <td>https://www.tokopedia.com/komunikasell/xiaomi-...</td>\n      <td>0</td>\n      <td>2</td>\n      <td>0</td>\n      <td>0.0</td>\n    </tr>\n    <tr>\n      <th>182</th>\n      <td>Redmi Note 11 4/128 Gb Garansi Resmi</td>\n      <td>2520000</td>\n      <td>Android OS</td>\n      <td>Arizki Phone</td>\n      <td>Kab. Bantul</td>\n      <td>https://www.tokopedia.com/arizki-phone/redmi-n...</td>\n      <td>0</td>\n      <td>17</td>\n      <td>0</td>\n      <td>0.0</td>\n    </tr>\n    <tr>\n      <th>287</th>\n      <td>SALE REDMI NOTE 11 4/128 GARANSI RESMI NEW</td>\n      <td>4159000</td>\n      <td>Android OS</td>\n      <td>angel toko2</td>\n      <td>Jakarta Barat</td>\n      <td>https://www.tokopedia.com/angeltoko2/sale-redm...</td>\n      <td>0</td>\n      <td>0</td>\n      <td>0</td>\n      <td>0.0</td>\n    </tr>\n  </tbody>\n</table>\n<p>288 rows × 10 columns</p>\n</div>"
     },
     "metadata": {},
     "execution_count": 2
    }
   ],
   "source": [
    "df = pd.read_csv('data-bersih-renot11-4gb.csv')\n",
    "pd.options.display.max_rows=10\n",
    "df.sort_values('Sold', ascending=False)"
   ]
  },
  {
   "cell_type": "code",
   "execution_count": 16,
   "metadata": {},
   "outputs": [
    {
     "output_type": "execute_result",
     "data": {
      "text/plain": [
       "0      False\n",
       "1       True\n",
       "2      False\n",
       "3      False\n",
       "4      False\n",
       "       ...  \n",
       "283     True\n",
       "284    False\n",
       "285    False\n",
       "286    False\n",
       "287    False\n",
       "Name: Seller Name, Length: 288, dtype: bool"
      ]
     },
     "metadata": {},
     "execution_count": 16
    }
   ],
   "source": [
    "# cek apa ada toko yang menjual produk yang sama\n",
    "# karena semua produk pada dasarnya adalah barang yang sama, maka tinggal lihat duplicated seller name\n",
    "\n",
    "df['Seller Name'].duplicated()"
   ]
  },
  {
   "cell_type": "code",
   "execution_count": 18,
   "metadata": {},
   "outputs": [
    {
     "output_type": "execute_result",
     "data": {
      "text/plain": [
       "                                                            Product Name  \\\n",
       "282  XIAOMI REDMI NOTE 11 RAM 4GB-128GB Snapdragon 680 GARANSI RESMI TAM   \n",
       "283                 Xiaomi Redmi Note 11 Ram 4Gb+128Gb Nfc Garansi Resmi   \n",
       "\n",
       "       Price    Category Seller Name       Location  \\\n",
       "282  3218000  Android OS   damario -  Jakarta Utara   \n",
       "283  3275000  Android OS   damario -  Jakarta Utara   \n",
       "\n",
       "                                                                                                Product URL  \\\n",
       "282  https://www.tokopedia.com/damario-/xiaomi-redmi-note-11-ram-4gb-128gb-snapdragon-680-garansi-resmi-tam   \n",
       "283                 https://www.tokopedia.com/damario-/xiaomi-redmi-note-11-ram-4gb-128gb-nfc-garansi-resmi   \n",
       "\n",
       "     Sold  Views  Reviews  Rating  \n",
       "282     0      0        0     0.0  \n",
       "283     0      0        0     0.0  "
      ],
      "text/html": "<div>\n<style scoped>\n    .dataframe tbody tr th:only-of-type {\n        vertical-align: middle;\n    }\n\n    .dataframe tbody tr th {\n        vertical-align: top;\n    }\n\n    .dataframe thead th {\n        text-align: right;\n    }\n</style>\n<table border=\"1\" class=\"dataframe\">\n  <thead>\n    <tr style=\"text-align: right;\">\n      <th></th>\n      <th>Product Name</th>\n      <th>Price</th>\n      <th>Category</th>\n      <th>Seller Name</th>\n      <th>Location</th>\n      <th>Product URL</th>\n      <th>Sold</th>\n      <th>Views</th>\n      <th>Reviews</th>\n      <th>Rating</th>\n    </tr>\n  </thead>\n  <tbody>\n    <tr>\n      <th>282</th>\n      <td>XIAOMI REDMI NOTE 11 RAM 4GB-128GB Snapdragon 680 GARANSI RESMI TAM</td>\n      <td>3218000</td>\n      <td>Android OS</td>\n      <td>damario -</td>\n      <td>Jakarta Utara</td>\n      <td>https://www.tokopedia.com/damario-/xiaomi-redmi-note-11-ram-4gb-128gb-snapdragon-680-garansi-resmi-tam</td>\n      <td>0</td>\n      <td>0</td>\n      <td>0</td>\n      <td>0.0</td>\n    </tr>\n    <tr>\n      <th>283</th>\n      <td>Xiaomi Redmi Note 11 Ram 4Gb+128Gb Nfc Garansi Resmi</td>\n      <td>3275000</td>\n      <td>Android OS</td>\n      <td>damario -</td>\n      <td>Jakarta Utara</td>\n      <td>https://www.tokopedia.com/damario-/xiaomi-redmi-note-11-ram-4gb-128gb-nfc-garansi-resmi</td>\n      <td>0</td>\n      <td>0</td>\n      <td>0</td>\n      <td>0.0</td>\n    </tr>\n  </tbody>\n</table>\n</div>"
     },
     "metadata": {},
     "execution_count": 18
    }
   ],
   "source": [
    "# cek lebih detail\n",
    "\n",
    "df.iloc[:2]"
   ]
  },
  {
   "cell_type": "code",
   "execution_count": 19,
   "metadata": {},
   "outputs": [
    {
     "output_type": "execute_result",
     "data": {
      "text/plain": [
       "                                                            Product Name  \\\n",
       "282  XIAOMI REDMI NOTE 11 RAM 4GB-128GB Snapdragon 680 GARANSI RESMI TAM   \n",
       "283                 Xiaomi Redmi Note 11 Ram 4Gb+128Gb Nfc Garansi Resmi   \n",
       "\n",
       "       Price    Category Seller Name       Location  \\\n",
       "282  3218000  Android OS   damario -  Jakarta Utara   \n",
       "283  3275000  Android OS   damario -  Jakarta Utara   \n",
       "\n",
       "                                                                                                Product URL  \\\n",
       "282  https://www.tokopedia.com/damario-/xiaomi-redmi-note-11-ram-4gb-128gb-snapdragon-680-garansi-resmi-tam   \n",
       "283                 https://www.tokopedia.com/damario-/xiaomi-redmi-note-11-ram-4gb-128gb-nfc-garansi-resmi   \n",
       "\n",
       "     Sold  Views  Reviews  Rating  \n",
       "282     0      0        0     0.0  \n",
       "283     0      0        0     0.0  "
      ],
      "text/html": "<div>\n<style scoped>\n    .dataframe tbody tr th:only-of-type {\n        vertical-align: middle;\n    }\n\n    .dataframe tbody tr th {\n        vertical-align: top;\n    }\n\n    .dataframe thead th {\n        text-align: right;\n    }\n</style>\n<table border=\"1\" class=\"dataframe\">\n  <thead>\n    <tr style=\"text-align: right;\">\n      <th></th>\n      <th>Product Name</th>\n      <th>Price</th>\n      <th>Category</th>\n      <th>Seller Name</th>\n      <th>Location</th>\n      <th>Product URL</th>\n      <th>Sold</th>\n      <th>Views</th>\n      <th>Reviews</th>\n      <th>Rating</th>\n    </tr>\n  </thead>\n  <tbody>\n    <tr>\n      <th>282</th>\n      <td>XIAOMI REDMI NOTE 11 RAM 4GB-128GB Snapdragon 680 GARANSI RESMI TAM</td>\n      <td>3218000</td>\n      <td>Android OS</td>\n      <td>damario -</td>\n      <td>Jakarta Utara</td>\n      <td>https://www.tokopedia.com/damario-/xiaomi-redmi-note-11-ram-4gb-128gb-snapdragon-680-garansi-resmi-tam</td>\n      <td>0</td>\n      <td>0</td>\n      <td>0</td>\n      <td>0.0</td>\n    </tr>\n    <tr>\n      <th>283</th>\n      <td>Xiaomi Redmi Note 11 Ram 4Gb+128Gb Nfc Garansi Resmi</td>\n      <td>3275000</td>\n      <td>Android OS</td>\n      <td>damario -</td>\n      <td>Jakarta Utara</td>\n      <td>https://www.tokopedia.com/damario-/xiaomi-redmi-note-11-ram-4gb-128gb-nfc-garansi-resmi</td>\n      <td>0</td>\n      <td>0</td>\n      <td>0</td>\n      <td>0.0</td>\n    </tr>\n  </tbody>\n</table>\n</div>"
     },
     "metadata": {},
     "execution_count": 19
    }
   ],
   "source": [
    "df.iloc[282:284]"
   ]
  },
  {
   "cell_type": "code",
   "execution_count": 21,
   "metadata": {},
   "outputs": [
    {
     "output_type": "execute_result",
     "data": {
      "text/plain": [
       "                         Price  Sold  Views  Reviews  Rating\n",
       "Seller Name                                                 \n",
       "Gudang-HP              2481000   553  17696      123     5.0\n",
       "Xiaomi Official Store  2499000   499  66017      263     4.9\n",
       "Q-Store Pedia          2469000   348   3208       66     5.0\n",
       "Divergent True         2460000   335   1680       71     5.0\n",
       "Erwin Nugrawati        2434950   312   1217       64     5.0\n",
       "...                        ...   ...    ...      ...     ...\n",
       "Novaldi olshop         2650000     0     14        0     0.0\n",
       "OkeShop_Surabaya       2539000     0    156        0     0.0\n",
       "AND PUT                2899000     0     17        0     0.0\n",
       "P.S store5             2599000     0      2        0     0.0\n",
       "Ole Store JKT          2526000     0      2        0     0.0\n",
       "\n",
       "[282 rows x 5 columns]"
      ],
      "text/html": "<div>\n<style scoped>\n    .dataframe tbody tr th:only-of-type {\n        vertical-align: middle;\n    }\n\n    .dataframe tbody tr th {\n        vertical-align: top;\n    }\n\n    .dataframe thead th {\n        text-align: right;\n    }\n</style>\n<table border=\"1\" class=\"dataframe\">\n  <thead>\n    <tr style=\"text-align: right;\">\n      <th></th>\n      <th>Price</th>\n      <th>Sold</th>\n      <th>Views</th>\n      <th>Reviews</th>\n      <th>Rating</th>\n    </tr>\n    <tr>\n      <th>Seller Name</th>\n      <th></th>\n      <th></th>\n      <th></th>\n      <th></th>\n      <th></th>\n    </tr>\n  </thead>\n  <tbody>\n    <tr>\n      <th>Gudang-HP</th>\n      <td>2481000</td>\n      <td>553</td>\n      <td>17696</td>\n      <td>123</td>\n      <td>5.0</td>\n    </tr>\n    <tr>\n      <th>Xiaomi Official Store</th>\n      <td>2499000</td>\n      <td>499</td>\n      <td>66017</td>\n      <td>263</td>\n      <td>4.9</td>\n    </tr>\n    <tr>\n      <th>Q-Store Pedia</th>\n      <td>2469000</td>\n      <td>348</td>\n      <td>3208</td>\n      <td>66</td>\n      <td>5.0</td>\n    </tr>\n    <tr>\n      <th>Divergent True</th>\n      <td>2460000</td>\n      <td>335</td>\n      <td>1680</td>\n      <td>71</td>\n      <td>5.0</td>\n    </tr>\n    <tr>\n      <th>Erwin Nugrawati</th>\n      <td>2434950</td>\n      <td>312</td>\n      <td>1217</td>\n      <td>64</td>\n      <td>5.0</td>\n    </tr>\n    <tr>\n      <th>...</th>\n      <td>...</td>\n      <td>...</td>\n      <td>...</td>\n      <td>...</td>\n      <td>...</td>\n    </tr>\n    <tr>\n      <th>Novaldi olshop</th>\n      <td>2650000</td>\n      <td>0</td>\n      <td>14</td>\n      <td>0</td>\n      <td>0.0</td>\n    </tr>\n    <tr>\n      <th>OkeShop_Surabaya</th>\n      <td>2539000</td>\n      <td>0</td>\n      <td>156</td>\n      <td>0</td>\n      <td>0.0</td>\n    </tr>\n    <tr>\n      <th>AND PUT</th>\n      <td>2899000</td>\n      <td>0</td>\n      <td>17</td>\n      <td>0</td>\n      <td>0.0</td>\n    </tr>\n    <tr>\n      <th>P.S store5</th>\n      <td>2599000</td>\n      <td>0</td>\n      <td>2</td>\n      <td>0</td>\n      <td>0.0</td>\n    </tr>\n    <tr>\n      <th>Ole Store JKT</th>\n      <td>2526000</td>\n      <td>0</td>\n      <td>2</td>\n      <td>0</td>\n      <td>0.0</td>\n    </tr>\n  </tbody>\n</table>\n<p>282 rows × 5 columns</p>\n</div>"
     },
     "metadata": {},
     "execution_count": 21
    }
   ],
   "source": [
    "# dari dataset di atas terlihat terdapat toko yang sama menjual produk yang sama, tapi dengan nama produk dan harga yang sedikit beda\n",
    "\n",
    "pd.options.display.max_colwidth=1000\n",
    "pd.options.display.max_rows=10\n",
    "\n",
    "groupby_seller = df.groupby(by=['Seller Name']).sum()\n",
    "groupby_seller.sort_values('Sold', ascending=False)"
   ]
  },
  {
   "cell_type": "code",
   "execution_count": 38,
   "metadata": {},
   "outputs": [
    {
     "output_type": "execute_result",
     "data": {
      "text/plain": [
       "Seller Name\n",
       "niwstored              False\n",
       "nur.shila store        False\n",
       "prelovedbarang17        True\n",
       "rafanizanstoree        False\n",
       "sekti official         False\n",
       "show gadget            False\n",
       "sinar_storee           False\n",
       "sumber shanum          False\n",
       "surya perdana 3        False\n",
       "sw mart kediri         False\n",
       "tamimatu shop          False\n",
       "toko_ legend           False\n",
       "tokolasvegas            True\n",
       "topsellsurabaya        False\n",
       "ucell cempaka          False\n",
       "uncharted_sply         False\n",
       "vERA W Shop            False\n",
       "vintagest              False\n",
       "vjstoree               False\n",
       "www-AnugrahJaya-com    False\n",
       "dtype: bool"
      ]
     },
     "metadata": {},
     "execution_count": 38
    }
   ],
   "source": [
    "# cek apa ada toko yang menjual produk yang sama\n",
    "pd.options.display.max_rows=100\n",
    "groupby_seller.duplicated().tail(20)"
   ]
  },
  {
   "cell_type": "code",
   "execution_count": 43,
   "metadata": {},
   "outputs": [
    {
     "output_type": "execute_result",
     "data": {
      "text/plain": [
       "                       Price  Sold  Views  Reviews  Rating\n",
       "Seller Name                                               \n",
       "niwstored            2410000     0     74        0     0.0\n",
       "nur.shila store      2598999    99    259        8     5.0\n",
       "prelovedbarang17     2650000     0      2        0     0.0\n",
       "rafanizanstoree      2549000     0     14        0     0.0\n",
       "sekti official       2899000     0     12        0     0.0\n",
       "show gadget          2455000     0     99        0     0.0\n",
       "sinar_storee         2449000     5    252        2     5.0\n",
       "sumber shanum        2425000   147    492       31     5.0\n",
       "surya perdana 3      2650000   151     48       17     5.0\n",
       "sw mart kediri       2485000    13    275        3     5.0\n",
       "tamimatu shop        2480000     1     35        0     0.0\n",
       "toko_ legend         2499000     0      4        0     0.0\n",
       "tokolasvegas         2600000     0      0        0     0.0\n",
       "topsellsurabaya      2599000    16    632        6     5.0\n",
       "ucell cempaka        2635000     1    249        1     5.0\n",
       "uncharted_sply       2425000    69    906       17     5.0\n",
       "vERA W Shop          3114000     0      1        0     0.0\n",
       "vintagest            2475000     0     12        0     0.0\n",
       "vjstoree             2409000    33    935        6     5.0\n",
       "www-AnugrahJaya-com  2435000     5     67        1     5.0"
      ],
      "text/html": "<div>\n<style scoped>\n    .dataframe tbody tr th:only-of-type {\n        vertical-align: middle;\n    }\n\n    .dataframe tbody tr th {\n        vertical-align: top;\n    }\n\n    .dataframe thead th {\n        text-align: right;\n    }\n</style>\n<table border=\"1\" class=\"dataframe\">\n  <thead>\n    <tr style=\"text-align: right;\">\n      <th></th>\n      <th>Price</th>\n      <th>Sold</th>\n      <th>Views</th>\n      <th>Reviews</th>\n      <th>Rating</th>\n    </tr>\n    <tr>\n      <th>Seller Name</th>\n      <th></th>\n      <th></th>\n      <th></th>\n      <th></th>\n      <th></th>\n    </tr>\n  </thead>\n  <tbody>\n    <tr>\n      <th>niwstored</th>\n      <td>2410000</td>\n      <td>0</td>\n      <td>74</td>\n      <td>0</td>\n      <td>0.0</td>\n    </tr>\n    <tr>\n      <th>nur.shila store</th>\n      <td>2598999</td>\n      <td>99</td>\n      <td>259</td>\n      <td>8</td>\n      <td>5.0</td>\n    </tr>\n    <tr>\n      <th>prelovedbarang17</th>\n      <td>2650000</td>\n      <td>0</td>\n      <td>2</td>\n      <td>0</td>\n      <td>0.0</td>\n    </tr>\n    <tr>\n      <th>rafanizanstoree</th>\n      <td>2549000</td>\n      <td>0</td>\n      <td>14</td>\n      <td>0</td>\n      <td>0.0</td>\n    </tr>\n    <tr>\n      <th>sekti official</th>\n      <td>2899000</td>\n      <td>0</td>\n      <td>12</td>\n      <td>0</td>\n      <td>0.0</td>\n    </tr>\n    <tr>\n      <th>show gadget</th>\n      <td>2455000</td>\n      <td>0</td>\n      <td>99</td>\n      <td>0</td>\n      <td>0.0</td>\n    </tr>\n    <tr>\n      <th>sinar_storee</th>\n      <td>2449000</td>\n      <td>5</td>\n      <td>252</td>\n      <td>2</td>\n      <td>5.0</td>\n    </tr>\n    <tr>\n      <th>sumber shanum</th>\n      <td>2425000</td>\n      <td>147</td>\n      <td>492</td>\n      <td>31</td>\n      <td>5.0</td>\n    </tr>\n    <tr>\n      <th>surya perdana 3</th>\n      <td>2650000</td>\n      <td>151</td>\n      <td>48</td>\n      <td>17</td>\n      <td>5.0</td>\n    </tr>\n    <tr>\n      <th>sw mart kediri</th>\n      <td>2485000</td>\n      <td>13</td>\n      <td>275</td>\n      <td>3</td>\n      <td>5.0</td>\n    </tr>\n    <tr>\n      <th>tamimatu shop</th>\n      <td>2480000</td>\n      <td>1</td>\n      <td>35</td>\n      <td>0</td>\n      <td>0.0</td>\n    </tr>\n    <tr>\n      <th>toko_ legend</th>\n      <td>2499000</td>\n      <td>0</td>\n      <td>4</td>\n      <td>0</td>\n      <td>0.0</td>\n    </tr>\n    <tr>\n      <th>tokolasvegas</th>\n      <td>2600000</td>\n      <td>0</td>\n      <td>0</td>\n      <td>0</td>\n      <td>0.0</td>\n    </tr>\n    <tr>\n      <th>topsellsurabaya</th>\n      <td>2599000</td>\n      <td>16</td>\n      <td>632</td>\n      <td>6</td>\n      <td>5.0</td>\n    </tr>\n    <tr>\n      <th>ucell cempaka</th>\n      <td>2635000</td>\n      <td>1</td>\n      <td>249</td>\n      <td>1</td>\n      <td>5.0</td>\n    </tr>\n    <tr>\n      <th>uncharted_sply</th>\n      <td>2425000</td>\n      <td>69</td>\n      <td>906</td>\n      <td>17</td>\n      <td>5.0</td>\n    </tr>\n    <tr>\n      <th>vERA W Shop</th>\n      <td>3114000</td>\n      <td>0</td>\n      <td>1</td>\n      <td>0</td>\n      <td>0.0</td>\n    </tr>\n    <tr>\n      <th>vintagest</th>\n      <td>2475000</td>\n      <td>0</td>\n      <td>12</td>\n      <td>0</td>\n      <td>0.0</td>\n    </tr>\n    <tr>\n      <th>vjstoree</th>\n      <td>2409000</td>\n      <td>33</td>\n      <td>935</td>\n      <td>6</td>\n      <td>5.0</td>\n    </tr>\n    <tr>\n      <th>www-AnugrahJaya-com</th>\n      <td>2435000</td>\n      <td>5</td>\n      <td>67</td>\n      <td>1</td>\n      <td>5.0</td>\n    </tr>\n  </tbody>\n</table>\n</div>"
     },
     "metadata": {},
     "execution_count": 43
    }
   ],
   "source": [
    "# kok masih ada yg TRUE?\n",
    "groupby_seller.tail(20)"
   ]
  },
  {
   "cell_type": "code",
   "execution_count": 41,
   "metadata": {},
   "outputs": [
    {
     "output_type": "execute_result",
     "data": {
      "text/plain": [
       "Index(['niwstored', 'nur.shila store', 'prelovedbarang17', 'rafanizanstoree',\n",
       "       'sekti official', 'show gadget', 'sinar_storee', 'sumber shanum',\n",
       "       'surya perdana 3', 'sw mart kediri', 'tamimatu shop', 'toko_ legend',\n",
       "       'tokolasvegas', 'topsellsurabaya', 'ucell cempaka', 'uncharted_sply',\n",
       "       'vERA W Shop', 'vintagest', 'vjstoree', 'www-AnugrahJaya-com'],\n",
       "      dtype='object', name='Seller Name')"
      ]
     },
     "metadata": {},
     "execution_count": 41
    }
   ],
   "source": [
    "groupby_seller.duplicated().tail(20).index"
   ]
  },
  {
   "cell_type": "code",
   "execution_count": 47,
   "metadata": {},
   "outputs": [
    {
     "output_type": "execute_result",
     "data": {
      "text/plain": [
       "                Price  Sold  Views  Reviews  Rating\n",
       "Seller Name                                        \n",
       "tokolasvegas  2600000     0      0        0     0.0"
      ],
      "text/html": "<div>\n<style scoped>\n    .dataframe tbody tr th:only-of-type {\n        vertical-align: middle;\n    }\n\n    .dataframe tbody tr th {\n        vertical-align: top;\n    }\n\n    .dataframe thead th {\n        text-align: right;\n    }\n</style>\n<table border=\"1\" class=\"dataframe\">\n  <thead>\n    <tr style=\"text-align: right;\">\n      <th></th>\n      <th>Price</th>\n      <th>Sold</th>\n      <th>Views</th>\n      <th>Reviews</th>\n      <th>Rating</th>\n    </tr>\n    <tr>\n      <th>Seller Name</th>\n      <th></th>\n      <th></th>\n      <th></th>\n      <th></th>\n      <th></th>\n    </tr>\n  </thead>\n  <tbody>\n    <tr>\n      <th>tokolasvegas</th>\n      <td>2600000</td>\n      <td>0</td>\n      <td>0</td>\n      <td>0</td>\n      <td>0.0</td>\n    </tr>\n  </tbody>\n</table>\n</div>"
     },
     "metadata": {},
     "execution_count": 47
    }
   ],
   "source": [
    "# cek lebih detail\n",
    "groupby_seller.iloc[274]\n",
    "groupby_seller.loc[['tokolasvegas']]"
   ]
  },
  {
   "cell_type": "code",
   "execution_count": 48,
   "metadata": {},
   "outputs": [
    {
     "output_type": "execute_result",
     "data": {
      "text/plain": [
       "Price      2499000.0\n",
       "Sold             0.0\n",
       "Views            4.0\n",
       "Reviews          0.0\n",
       "Rating           0.0\n",
       "Name: toko_ legend, dtype: float64"
      ]
     },
     "metadata": {},
     "execution_count": 48
    }
   ],
   "source": [
    "groupby_seller.loc['toko_ legend']"
   ]
  },
  {
   "cell_type": "code",
   "execution_count": null,
   "metadata": {},
   "outputs": [],
   "source": []
  }
 ]
}