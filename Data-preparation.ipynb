{
 "metadata": {
  "language_info": {
   "codemirror_mode": {
    "name": "ipython",
    "version": 3
   },
   "file_extension": ".py",
   "mimetype": "text/x-python",
   "name": "python",
   "nbconvert_exporter": "python",
   "pygments_lexer": "ipython3",
   "version": "3.8.6-final"
  },
  "orig_nbformat": 2,
  "kernelspec": {
   "name": "python38632bit1410168d057a4958a3f64ea7907d3b18",
   "display_name": "Python 3.8.6 32-bit"
  }
 },
 "nbformat": 4,
 "nbformat_minor": 2,
 "cells": [
  {
   "cell_type": "code",
   "execution_count": 2,
   "metadata": {},
   "outputs": [],
   "source": [
    "import pandas as pd, matplotlib.pyplot as plt, seaborn as sns "
   ]
  },
  {
   "cell_type": "code",
   "execution_count": 7,
   "metadata": {},
   "outputs": [],
   "source": [
    "# data diambil di https://tokopedia.com pada 5/15/2022, menggunakan tool Hidup Cuan Scraper\n",
    "\n",
    "df1 = pd.read_csv(\"satu.csv\")\n",
    "df2 = pd.read_csv(\"dua.csv\")\n",
    "df3 = pd.read_csv(\"tiga.csv\")\n",
    "df4 = pd.read_csv(\"empat.csv\")\n",
    "df5 = pd.read_csv(\"lima.csv\")\n",
    "df6 = pd.read_csv(\"enam.csv\")\n"
   ]
  },
  {
   "cell_type": "code",
   "execution_count": 8,
   "metadata": {},
   "outputs": [],
   "source": [
    "df = pd.concat([df1, df2, df3, df4, df5, df6])"
   ]
  },
  {
   "cell_type": "code",
   "execution_count": 9,
   "metadata": {},
   "outputs": [
    {
     "output_type": "execute_result",
     "data": {
      "text/plain": [
       "     #  \\\n",
       "0    1   \n",
       "1    2   \n",
       "2    3   \n",
       "3    4   \n",
       "4    5   \n",
       "..  ..   \n",
       "56  57   \n",
       "57  58   \n",
       "58  59   \n",
       "59  60   \n",
       "60  61   \n",
       "\n",
       "                                                                             Product Name  \\\n",
       "0                                                             XIAOMI REDMI NOTE 4X 4/64GB   \n",
       "1                                                Redmi Note 11 4/128 Gb New Garansi Resmi   \n",
       "2                           Redmi Note 11 4/128 GB Garansi Resmi Xiaomi Indonesia - READY   \n",
       "3                             Xiaomi Redmi Note 11 4/128 GB Garansi Resmi - Twilight Blue   \n",
       "4                                        Redmi Note 11 4/128 Gb garansi resmi - Star blue   \n",
       "..                                                                                    ...   \n",
       "56                                                         XIAOMI REDMI NOTE 11 4Gb 128Gb   \n",
       "57                               Redmi Note 11 4/128 Ram 4gb internal 128gb Garansi Resmi   \n",
       "58  REDMI NOTE 11 4/128 GB NFC Snapdragon 680 Amoled Garansi Resmi Xiaomi - Graphite Grey   \n",
       "59                         (GRATIS ONGKIR) Xiaomi Redmi Note 11 (4Gb+128GB) Garansi Resmi   \n",
       "60             Xiaomi Redmi Note 11 4/128 GB - Garansi Resmi TAM - Note 11 4/128GB - Grey   \n",
       "\n",
       "                                                                                                                 Product URL  \\\n",
       "0                                                          https://www.tokopedia.com/daystoresid/xiaomi-redmi-note-4x-4-64gb   \n",
       "1                                   https://www.tokopedia.com/archive-bilqissaditya/redmi-note-11-4-128-gb-new-garansi-resmi   \n",
       "2                     https://www.tokopedia.com/newsantbrinashop/redmi-note-11-4-128-gb-garansi-resmi-xiaomi-indonesia-ready   \n",
       "3                             https://www.tokopedia.com/abiansimon/xiaomi-redmi-note-11-4-128-gb-garansi-resmi-twilight-blue   \n",
       "4                                         https://www.tokopedia.com/maritsa22/redmi-note-11-4-128-gb-garansi-resmi-star-blue   \n",
       "..                                                                                                                       ...   \n",
       "56                                                          https://www.tokopedia.com/drsanga/xiaomi-redmi-note-11-4gb-128gb   \n",
       "57                                https://www.tokopedia.com/x9phone/redmi-note-11-4-128-ram-4gb-internal-128gb-garansi-resmi   \n",
       "58  https://www.tokopedia.com/siangmalam/redmi-note-11-4-128-gb-nfc-snapdragon-680-amoled-garansi-resmi-xiaomi-graphite-grey   \n",
       "59                         https://www.tokopedia.com/goodmerchant/gratis-ongkir-xiaomi-redmi-note-11-4gb-128gb-garansi-resmi   \n",
       "60          https://www.tokopedia.com/specialist-ponsel/xiaomi-redmi-note-11-4-128-gb-garansi-resmi-tam-note-11-4-128gb-grey   \n",
       "\n",
       "      Price    Category  Reviews  Sold  Views  Rating  \\\n",
       "0    905000  Android OS        7    33   5356     4.4   \n",
       "1   2430000  Android OS       67   211   1247     5.0   \n",
       "2   2440000  Android OS       35   134   1068     5.0   \n",
       "3   2459000  Android OS       24    87    620     5.0   \n",
       "4   2435000  Android OS       31   123    600     5.0   \n",
       "..      ...         ...      ...   ...    ...     ...   \n",
       "56  2599000  Android OS        0     0     15     0.0   \n",
       "57  2450000  Android OS        0     0     28     0.0   \n",
       "58  2470000  Android OS        0     0     26     0.0   \n",
       "59  2390000  Android OS        0     0     29     0.0   \n",
       "60  2450000  Android OS        0     0      8     0.0   \n",
       "\n",
       "                 Seller Name                                       Seller URL  \\\n",
       "0                daystore_id            https://www.tokopedia.com/daystoresid   \n",
       "1               Century Fast  https://www.tokopedia.com/archive-bilqissaditya   \n",
       "2          NewSantBrina Shop       https://www.tokopedia.com/newsantbrinashop   \n",
       "3       Abian Simon Official             https://www.tokopedia.com/abiansimon   \n",
       "4              maritsa_store              https://www.tokopedia.com/maritsa22   \n",
       "..                       ...                                              ...   \n",
       "56  Sembilan Cell & Computer                https://www.tokopedia.com/drsanga   \n",
       "57                  X9 Phone                https://www.tokopedia.com/x9phone   \n",
       "58              Siang_malam_             https://www.tokopedia.com/siangmalam   \n",
       "59             Good Merchant           https://www.tokopedia.com/goodmerchant   \n",
       "60   Specialist Ponsel Bogor      https://www.tokopedia.com/specialist-ponsel   \n",
       "\n",
       "            Location  Error  \n",
       "0      Jakarta Pusat  False  \n",
       "1     Kota Surakarta  False  \n",
       "2     Kota Surakarta  False  \n",
       "3     Kota Surakarta  False  \n",
       "4   Kab. Karanganyar  False  \n",
       "..               ...    ...  \n",
       "56      Kab. Cilacap  False  \n",
       "57     Kab. Banyumas  False  \n",
       "58       Kota Bekasi  False  \n",
       "59    Kota Tangerang  False  \n",
       "60        Kab. Bogor  False  \n",
       "\n",
       "[338 rows x 13 columns]"
      ],
      "text/html": "<div>\n<style scoped>\n    .dataframe tbody tr th:only-of-type {\n        vertical-align: middle;\n    }\n\n    .dataframe tbody tr th {\n        vertical-align: top;\n    }\n\n    .dataframe thead th {\n        text-align: right;\n    }\n</style>\n<table border=\"1\" class=\"dataframe\">\n  <thead>\n    <tr style=\"text-align: right;\">\n      <th></th>\n      <th>#</th>\n      <th>Product Name</th>\n      <th>Product URL</th>\n      <th>Price</th>\n      <th>Category</th>\n      <th>Reviews</th>\n      <th>Sold</th>\n      <th>Views</th>\n      <th>Rating</th>\n      <th>Seller Name</th>\n      <th>Seller URL</th>\n      <th>Location</th>\n      <th>Error</th>\n    </tr>\n  </thead>\n  <tbody>\n    <tr>\n      <th>0</th>\n      <td>1</td>\n      <td>XIAOMI REDMI NOTE 4X 4/64GB</td>\n      <td>https://www.tokopedia.com/daystoresid/xiaomi-redmi-note-4x-4-64gb</td>\n      <td>905000</td>\n      <td>Android OS</td>\n      <td>7</td>\n      <td>33</td>\n      <td>5356</td>\n      <td>4.4</td>\n      <td>daystore_id</td>\n      <td>https://www.tokopedia.com/daystoresid</td>\n      <td>Jakarta Pusat</td>\n      <td>False</td>\n    </tr>\n    <tr>\n      <th>1</th>\n      <td>2</td>\n      <td>Redmi Note 11 4/128 Gb New Garansi Resmi</td>\n      <td>https://www.tokopedia.com/archive-bilqissaditya/redmi-note-11-4-128-gb-new-garansi-resmi</td>\n      <td>2430000</td>\n      <td>Android OS</td>\n      <td>67</td>\n      <td>211</td>\n      <td>1247</td>\n      <td>5.0</td>\n      <td>Century Fast</td>\n      <td>https://www.tokopedia.com/archive-bilqissaditya</td>\n      <td>Kota Surakarta</td>\n      <td>False</td>\n    </tr>\n    <tr>\n      <th>2</th>\n      <td>3</td>\n      <td>Redmi Note 11 4/128 GB Garansi Resmi Xiaomi Indonesia - READY</td>\n      <td>https://www.tokopedia.com/newsantbrinashop/redmi-note-11-4-128-gb-garansi-resmi-xiaomi-indonesia-ready</td>\n      <td>2440000</td>\n      <td>Android OS</td>\n      <td>35</td>\n      <td>134</td>\n      <td>1068</td>\n      <td>5.0</td>\n      <td>NewSantBrina Shop</td>\n      <td>https://www.tokopedia.com/newsantbrinashop</td>\n      <td>Kota Surakarta</td>\n      <td>False</td>\n    </tr>\n    <tr>\n      <th>3</th>\n      <td>4</td>\n      <td>Xiaomi Redmi Note 11 4/128 GB Garansi Resmi - Twilight Blue</td>\n      <td>https://www.tokopedia.com/abiansimon/xiaomi-redmi-note-11-4-128-gb-garansi-resmi-twilight-blue</td>\n      <td>2459000</td>\n      <td>Android OS</td>\n      <td>24</td>\n      <td>87</td>\n      <td>620</td>\n      <td>5.0</td>\n      <td>Abian Simon Official</td>\n      <td>https://www.tokopedia.com/abiansimon</td>\n      <td>Kota Surakarta</td>\n      <td>False</td>\n    </tr>\n    <tr>\n      <th>4</th>\n      <td>5</td>\n      <td>Redmi Note 11 4/128 Gb garansi resmi - Star blue</td>\n      <td>https://www.tokopedia.com/maritsa22/redmi-note-11-4-128-gb-garansi-resmi-star-blue</td>\n      <td>2435000</td>\n      <td>Android OS</td>\n      <td>31</td>\n      <td>123</td>\n      <td>600</td>\n      <td>5.0</td>\n      <td>maritsa_store</td>\n      <td>https://www.tokopedia.com/maritsa22</td>\n      <td>Kab. Karanganyar</td>\n      <td>False</td>\n    </tr>\n    <tr>\n      <th>...</th>\n      <td>...</td>\n      <td>...</td>\n      <td>...</td>\n      <td>...</td>\n      <td>...</td>\n      <td>...</td>\n      <td>...</td>\n      <td>...</td>\n      <td>...</td>\n      <td>...</td>\n      <td>...</td>\n      <td>...</td>\n      <td>...</td>\n    </tr>\n    <tr>\n      <th>56</th>\n      <td>57</td>\n      <td>XIAOMI REDMI NOTE 11 4Gb 128Gb</td>\n      <td>https://www.tokopedia.com/drsanga/xiaomi-redmi-note-11-4gb-128gb</td>\n      <td>2599000</td>\n      <td>Android OS</td>\n      <td>0</td>\n      <td>0</td>\n      <td>15</td>\n      <td>0.0</td>\n      <td>Sembilan Cell &amp; Computer</td>\n      <td>https://www.tokopedia.com/drsanga</td>\n      <td>Kab. Cilacap</td>\n      <td>False</td>\n    </tr>\n    <tr>\n      <th>57</th>\n      <td>58</td>\n      <td>Redmi Note 11 4/128 Ram 4gb internal 128gb Garansi Resmi</td>\n      <td>https://www.tokopedia.com/x9phone/redmi-note-11-4-128-ram-4gb-internal-128gb-garansi-resmi</td>\n      <td>2450000</td>\n      <td>Android OS</td>\n      <td>0</td>\n      <td>0</td>\n      <td>28</td>\n      <td>0.0</td>\n      <td>X9 Phone</td>\n      <td>https://www.tokopedia.com/x9phone</td>\n      <td>Kab. Banyumas</td>\n      <td>False</td>\n    </tr>\n    <tr>\n      <th>58</th>\n      <td>59</td>\n      <td>REDMI NOTE 11 4/128 GB NFC Snapdragon 680 Amoled Garansi Resmi Xiaomi - Graphite Grey</td>\n      <td>https://www.tokopedia.com/siangmalam/redmi-note-11-4-128-gb-nfc-snapdragon-680-amoled-garansi-resmi-xiaomi-graphite-grey</td>\n      <td>2470000</td>\n      <td>Android OS</td>\n      <td>0</td>\n      <td>0</td>\n      <td>26</td>\n      <td>0.0</td>\n      <td>Siang_malam_</td>\n      <td>https://www.tokopedia.com/siangmalam</td>\n      <td>Kota Bekasi</td>\n      <td>False</td>\n    </tr>\n    <tr>\n      <th>59</th>\n      <td>60</td>\n      <td>(GRATIS ONGKIR) Xiaomi Redmi Note 11 (4Gb+128GB) Garansi Resmi</td>\n      <td>https://www.tokopedia.com/goodmerchant/gratis-ongkir-xiaomi-redmi-note-11-4gb-128gb-garansi-resmi</td>\n      <td>2390000</td>\n      <td>Android OS</td>\n      <td>0</td>\n      <td>0</td>\n      <td>29</td>\n      <td>0.0</td>\n      <td>Good Merchant</td>\n      <td>https://www.tokopedia.com/goodmerchant</td>\n      <td>Kota Tangerang</td>\n      <td>False</td>\n    </tr>\n    <tr>\n      <th>60</th>\n      <td>61</td>\n      <td>Xiaomi Redmi Note 11 4/128 GB - Garansi Resmi TAM - Note 11 4/128GB - Grey</td>\n      <td>https://www.tokopedia.com/specialist-ponsel/xiaomi-redmi-note-11-4-128-gb-garansi-resmi-tam-note-11-4-128gb-grey</td>\n      <td>2450000</td>\n      <td>Android OS</td>\n      <td>0</td>\n      <td>0</td>\n      <td>8</td>\n      <td>0.0</td>\n      <td>Specialist Ponsel Bogor</td>\n      <td>https://www.tokopedia.com/specialist-ponsel</td>\n      <td>Kab. Bogor</td>\n      <td>False</td>\n    </tr>\n  </tbody>\n</table>\n<p>338 rows × 13 columns</p>\n</div>"
     },
     "metadata": {},
     "execution_count": 9
    }
   ],
   "source": [
    "pd.options.display.max_rows=10 #mengubah setingan default max rows, sesuaikan dg kebutuhan\n",
    "pd.options.display.max_colwidth=1000\n",
    "df #cek data per baris 60, apa ada masalah header"
   ]
  },
  {
   "cell_type": "code",
   "execution_count": 10,
   "metadata": {},
   "outputs": [
    {
     "output_type": "stream",
     "name": "stdout",
     "text": [
      "<class 'pandas.core.frame.DataFrame'>\nInt64Index: 338 entries, 0 to 60\nData columns (total 13 columns):\n #   Column        Non-Null Count  Dtype  \n---  ------        --------------  -----  \n 0   #             338 non-null    int64  \n 1   Product Name  338 non-null    object \n 2   Product URL   338 non-null    object \n 3   Price         338 non-null    int64  \n 4   Category      338 non-null    object \n 5   Reviews       338 non-null    int64  \n 6   Sold          338 non-null    int64  \n 7   Views         338 non-null    int64  \n 8   Rating        338 non-null    float64\n 9   Seller Name   338 non-null    object \n 10  Seller URL    338 non-null    object \n 11  Location      338 non-null    object \n 12  Error         338 non-null    bool   \ndtypes: bool(1), float64(1), int64(5), object(6)\nmemory usage: 26.7+ KB\n"
     ]
    }
   ],
   "source": [
    "df.info()"
   ]
  },
  {
   "cell_type": "code",
   "execution_count": 11,
   "metadata": {},
   "outputs": [
    {
     "output_type": "execute_result",
     "data": {
      "text/plain": [
       "#               0\n",
       "Product Name    0\n",
       "Product URL     0\n",
       "Price           0\n",
       "Category        0\n",
       "               ..\n",
       "Rating          0\n",
       "Seller Name     0\n",
       "Seller URL      0\n",
       "Location        0\n",
       "Error           0\n",
       "Length: 13, dtype: int64"
      ]
     },
     "metadata": {},
     "execution_count": 11
    }
   ],
   "source": [
    "# cek baris kosong\n",
    "df.isnull().sum()"
   ]
  },
  {
   "cell_type": "code",
   "execution_count": 12,
   "metadata": {},
   "outputs": [
    {
     "output_type": "execute_result",
     "data": {
      "text/plain": [
       "<AxesSubplot:ylabel='Density'>"
      ]
     },
     "metadata": {},
     "execution_count": 12
    },
    {
     "output_type": "display_data",
     "data": {
      "text/plain": "<Figure size 432x288 with 1 Axes>",
      "image/svg+xml": "<?xml version=\"1.0\" encoding=\"utf-8\" standalone=\"no\"?>\n<!DOCTYPE svg PUBLIC \"-//W3C//DTD SVG 1.1//EN\"\n  \"http://www.w3.org/Graphics/SVG/1.1/DTD/svg11.dtd\">\n<svg xmlns:xlink=\"http://www.w3.org/1999/xlink\" width=\"376.240625pt\" height=\"271.794688pt\" viewBox=\"0 0 376.240625 271.794688\" xmlns=\"http://www.w3.org/2000/svg\" version=\"1.1\">\n <metadata>\n  <rdf:RDF xmlns:dc=\"http://purl.org/dc/elements/1.1/\" xmlns:cc=\"http://creativecommons.org/ns#\" xmlns:rdf=\"http://www.w3.org/1999/02/22-rdf-syntax-ns#\">\n   <cc:Work>\n    <dc:type rdf:resource=\"http://purl.org/dc/dcmitype/StillImage\"/>\n    <dc:date>2022-05-26T22:53:37.017691</dc:date>\n    <dc:format>image/svg+xml</dc:format>\n    <dc:creator>\n     <cc:Agent>\n      <dc:title>Matplotlib v3.5.2, https://matplotlib.org/</dc:title>\n     </cc:Agent>\n    </dc:creator>\n   </cc:Work>\n  </rdf:RDF>\n </metadata>\n <defs>\n  <style type=\"text/css\">*{stroke-linejoin: round; stroke-linecap: butt}</style>\n </defs>\n <g id=\"figure_1\">\n  <g id=\"patch_1\">\n   <path d=\"M 0 271.794688 \nL 376.240625 271.794688 \nL 376.240625 0 \nL 0 0 \nL 0 271.794688 \nz\n\" style=\"fill: none\"/>\n  </g>\n  <g id=\"axes_1\">\n   <g id=\"patch_2\">\n    <path d=\"M 34.240625 235.238438 \nL 369.040625 235.238438 \nL 369.040625 17.798438 \nL 34.240625 17.798438 \nz\n\" style=\"fill: #ffffff\"/>\n   </g>\n   <g id=\"patch_3\">\n    <path d=\"M 72.094858 235.238438 \nL 77.276689 235.238438 \nL 77.276689 226.234711 \nL 72.094858 226.234711 \nz\n\" clip-path=\"url(#p80ebe8909c)\" style=\"fill: #1f77b4; opacity: 0.4\"/>\n   </g>\n   <g id=\"patch_4\">\n    <path d=\"M 77.276689 235.238438 \nL 82.458519 235.238438 \nL 82.458519 235.238438 \nL 77.276689 235.238438 \nz\n\" clip-path=\"url(#p80ebe8909c)\" style=\"fill: #1f77b4; opacity: 0.4\"/>\n   </g>\n   <g id=\"patch_5\">\n    <path d=\"M 82.458519 235.238438 \nL 87.64035 235.238438 \nL 87.64035 235.238438 \nL 82.458519 235.238438 \nz\n\" clip-path=\"url(#p80ebe8909c)\" style=\"fill: #1f77b4; opacity: 0.4\"/>\n   </g>\n   <g id=\"patch_6\">\n    <path d=\"M 87.64035 235.238438 \nL 92.822181 235.238438 \nL 92.822181 235.238438 \nL 87.64035 235.238438 \nz\n\" clip-path=\"url(#p80ebe8909c)\" style=\"fill: #1f77b4; opacity: 0.4\"/>\n   </g>\n   <g id=\"patch_7\">\n    <path d=\"M 92.822181 235.238438 \nL 98.004012 235.238438 \nL 98.004012 235.238438 \nL 92.822181 235.238438 \nz\n\" clip-path=\"url(#p80ebe8909c)\" style=\"fill: #1f77b4; opacity: 0.4\"/>\n   </g>\n   <g id=\"patch_8\">\n    <path d=\"M 98.004012 235.238438 \nL 103.185842 235.238438 \nL 103.185842 235.238438 \nL 98.004012 235.238438 \nz\n\" clip-path=\"url(#p80ebe8909c)\" style=\"fill: #1f77b4; opacity: 0.4\"/>\n   </g>\n   <g id=\"patch_9\">\n    <path d=\"M 103.185842 235.238438 \nL 108.367673 235.238438 \nL 108.367673 233.737816 \nL 103.185842 233.737816 \nz\n\" clip-path=\"url(#p80ebe8909c)\" style=\"fill: #1f77b4; opacity: 0.4\"/>\n   </g>\n   <g id=\"patch_10\">\n    <path d=\"M 108.367673 235.238438 \nL 113.549504 235.238438 \nL 113.549504 235.238438 \nL 108.367673 235.238438 \nz\n\" clip-path=\"url(#p80ebe8909c)\" style=\"fill: #1f77b4; opacity: 0.4\"/>\n   </g>\n   <g id=\"patch_11\">\n    <path d=\"M 113.549504 235.238438 \nL 118.731334 235.238438 \nL 118.731334 235.238438 \nL 113.549504 235.238438 \nz\n\" clip-path=\"url(#p80ebe8909c)\" style=\"fill: #1f77b4; opacity: 0.4\"/>\n   </g>\n   <g id=\"patch_12\">\n    <path d=\"M 118.731334 235.238438 \nL 123.913165 235.238438 \nL 123.913165 235.238438 \nL 118.731334 235.238438 \nz\n\" clip-path=\"url(#p80ebe8909c)\" style=\"fill: #1f77b4; opacity: 0.4\"/>\n   </g>\n   <g id=\"patch_13\">\n    <path d=\"M 123.913165 235.238438 \nL 129.094996 235.238438 \nL 129.094996 235.238438 \nL 123.913165 235.238438 \nz\n\" clip-path=\"url(#p80ebe8909c)\" style=\"fill: #1f77b4; opacity: 0.4\"/>\n   </g>\n   <g id=\"patch_14\">\n    <path d=\"M 129.094996 235.238438 \nL 134.276826 235.238438 \nL 134.276826 235.238438 \nL 129.094996 235.238438 \nz\n\" clip-path=\"url(#p80ebe8909c)\" style=\"fill: #1f77b4; opacity: 0.4\"/>\n   </g>\n   <g id=\"patch_15\">\n    <path d=\"M 134.276826 235.238438 \nL 139.458657 235.238438 \nL 139.458657 235.238438 \nL 134.276826 235.238438 \nz\n\" clip-path=\"url(#p80ebe8909c)\" style=\"fill: #1f77b4; opacity: 0.4\"/>\n   </g>\n   <g id=\"patch_16\">\n    <path d=\"M 139.458657 235.238438 \nL 144.640488 235.238438 \nL 144.640488 233.737816 \nL 139.458657 233.737816 \nz\n\" clip-path=\"url(#p80ebe8909c)\" style=\"fill: #1f77b4; opacity: 0.4\"/>\n   </g>\n   <g id=\"patch_17\">\n    <path d=\"M 144.640488 235.238438 \nL 149.822318 235.238438 \nL 149.822318 233.737816 \nL 144.640488 233.737816 \nz\n\" clip-path=\"url(#p80ebe8909c)\" style=\"fill: #1f77b4; opacity: 0.4\"/>\n   </g>\n   <g id=\"patch_18\">\n    <path d=\"M 149.822318 235.238438 \nL 155.004149 235.238438 \nL 155.004149 235.238438 \nL 149.822318 235.238438 \nz\n\" clip-path=\"url(#p80ebe8909c)\" style=\"fill: #1f77b4; opacity: 0.4\"/>\n   </g>\n   <g id=\"patch_19\">\n    <path d=\"M 155.004149 235.238438 \nL 160.18598 235.238438 \nL 160.18598 230.736574 \nL 155.004149 230.736574 \nz\n\" clip-path=\"url(#p80ebe8909c)\" style=\"fill: #1f77b4; opacity: 0.4\"/>\n   </g>\n   <g id=\"patch_20\">\n    <path d=\"M 160.18598 235.238438 \nL 165.36781 235.238438 \nL 165.36781 229.235953 \nL 160.18598 229.235953 \nz\n\" clip-path=\"url(#p80ebe8909c)\" style=\"fill: #1f77b4; opacity: 0.4\"/>\n   </g>\n   <g id=\"patch_21\">\n    <path d=\"M 165.36781 235.238438 \nL 170.549641 235.238438 \nL 170.549641 28.152723 \nL 165.36781 28.152723 \nz\n\" clip-path=\"url(#p80ebe8909c)\" style=\"fill: #1f77b4; opacity: 0.4\"/>\n   </g>\n   <g id=\"patch_22\">\n    <path d=\"M 170.549641 235.238438 \nL 175.731472 235.238438 \nL 175.731472 113.688127 \nL 170.549641 113.688127 \nz\n\" clip-path=\"url(#p80ebe8909c)\" style=\"fill: #1f77b4; opacity: 0.4\"/>\n   </g>\n   <g id=\"patch_23\">\n    <path d=\"M 175.731472 235.238438 \nL 180.913302 235.238438 \nL 180.913302 167.710487 \nL 175.731472 167.710487 \nz\n\" clip-path=\"url(#p80ebe8909c)\" style=\"fill: #1f77b4; opacity: 0.4\"/>\n   </g>\n   <g id=\"patch_24\">\n    <path d=\"M 180.913302 235.238438 \nL 186.095133 235.238438 \nL 186.095133 212.729121 \nL 180.913302 212.729121 \nz\n\" clip-path=\"url(#p80ebe8909c)\" style=\"fill: #1f77b4; opacity: 0.4\"/>\n   </g>\n   <g id=\"patch_25\">\n    <path d=\"M 186.095133 235.238438 \nL 191.276964 235.238438 \nL 191.276964 233.737816 \nL 186.095133 233.737816 \nz\n\" clip-path=\"url(#p80ebe8909c)\" style=\"fill: #1f77b4; opacity: 0.4\"/>\n   </g>\n   <g id=\"patch_26\">\n    <path d=\"M 191.276964 235.238438 \nL 196.458794 235.238438 \nL 196.458794 230.736574 \nL 191.276964 230.736574 \nz\n\" clip-path=\"url(#p80ebe8909c)\" style=\"fill: #1f77b4; opacity: 0.4\"/>\n   </g>\n   <g id=\"patch_27\">\n    <path d=\"M 196.458794 235.238438 \nL 201.640625 235.238438 \nL 201.640625 218.731605 \nL 196.458794 218.731605 \nz\n\" clip-path=\"url(#p80ebe8909c)\" style=\"fill: #1f77b4; opacity: 0.4\"/>\n   </g>\n   <g id=\"patch_28\">\n    <path d=\"M 201.640625 235.238438 \nL 206.822456 235.238438 \nL 206.822456 230.736574 \nL 201.640625 230.736574 \nz\n\" clip-path=\"url(#p80ebe8909c)\" style=\"fill: #1f77b4; opacity: 0.4\"/>\n   </g>\n   <g id=\"patch_29\">\n    <path d=\"M 206.822456 235.238438 \nL 212.004286 235.238438 \nL 212.004286 224.73409 \nL 206.822456 224.73409 \nz\n\" clip-path=\"url(#p80ebe8909c)\" style=\"fill: #1f77b4; opacity: 0.4\"/>\n   </g>\n   <g id=\"patch_30\">\n    <path d=\"M 212.004286 235.238438 \nL 217.186117 235.238438 \nL 217.186117 227.735332 \nL 212.004286 227.735332 \nz\n\" clip-path=\"url(#p80ebe8909c)\" style=\"fill: #1f77b4; opacity: 0.4\"/>\n   </g>\n   <g id=\"patch_31\">\n    <path d=\"M 217.186117 235.238438 \nL 222.367948 235.238438 \nL 222.367948 233.737816 \nL 217.186117 233.737816 \nz\n\" clip-path=\"url(#p80ebe8909c)\" style=\"fill: #1f77b4; opacity: 0.4\"/>\n   </g>\n   <g id=\"patch_32\">\n    <path d=\"M 222.367948 235.238438 \nL 227.549778 235.238438 \nL 227.549778 235.238438 \nL 222.367948 235.238438 \nz\n\" clip-path=\"url(#p80ebe8909c)\" style=\"fill: #1f77b4; opacity: 0.4\"/>\n   </g>\n   <g id=\"patch_33\">\n    <path d=\"M 227.549778 235.238438 \nL 232.731609 235.238438 \nL 232.731609 235.238438 \nL 227.549778 235.238438 \nz\n\" clip-path=\"url(#p80ebe8909c)\" style=\"fill: #1f77b4; opacity: 0.4\"/>\n   </g>\n   <g id=\"patch_34\">\n    <path d=\"M 232.731609 235.238438 \nL 237.91344 235.238438 \nL 237.91344 235.238438 \nL 232.731609 235.238438 \nz\n\" clip-path=\"url(#p80ebe8909c)\" style=\"fill: #1f77b4; opacity: 0.4\"/>\n   </g>\n   <g id=\"patch_35\">\n    <path d=\"M 237.91344 235.238438 \nL 243.09527 235.238438 \nL 243.09527 229.235953 \nL 237.91344 229.235953 \nz\n\" clip-path=\"url(#p80ebe8909c)\" style=\"fill: #1f77b4; opacity: 0.4\"/>\n   </g>\n   <g id=\"patch_36\">\n    <path d=\"M 243.09527 235.238438 \nL 248.277101 235.238438 \nL 248.277101 233.737816 \nL 243.09527 233.737816 \nz\n\" clip-path=\"url(#p80ebe8909c)\" style=\"fill: #1f77b4; opacity: 0.4\"/>\n   </g>\n   <g id=\"patch_37\">\n    <path d=\"M 248.277101 235.238438 \nL 253.458932 235.238438 \nL 253.458932 232.237195 \nL 248.277101 232.237195 \nz\n\" clip-path=\"url(#p80ebe8909c)\" style=\"fill: #1f77b4; opacity: 0.4\"/>\n   </g>\n   <g id=\"patch_38\">\n    <path d=\"M 253.458932 235.238438 \nL 258.640762 235.238438 \nL 258.640762 232.237195 \nL 253.458932 232.237195 \nz\n\" clip-path=\"url(#p80ebe8909c)\" style=\"fill: #1f77b4; opacity: 0.4\"/>\n   </g>\n   <g id=\"patch_39\">\n    <path d=\"M 258.640762 235.238438 \nL 263.822593 235.238438 \nL 263.822593 235.238438 \nL 258.640762 235.238438 \nz\n\" clip-path=\"url(#p80ebe8909c)\" style=\"fill: #1f77b4; opacity: 0.4\"/>\n   </g>\n   <g id=\"patch_40\">\n    <path d=\"M 263.822593 235.238438 \nL 269.004424 235.238438 \nL 269.004424 233.737816 \nL 263.822593 233.737816 \nz\n\" clip-path=\"url(#p80ebe8909c)\" style=\"fill: #1f77b4; opacity: 0.4\"/>\n   </g>\n   <g id=\"patch_41\">\n    <path d=\"M 269.004424 235.238438 \nL 274.186254 235.238438 \nL 274.186254 235.238438 \nL 269.004424 235.238438 \nz\n\" clip-path=\"url(#p80ebe8909c)\" style=\"fill: #1f77b4; opacity: 0.4\"/>\n   </g>\n   <g id=\"patch_42\">\n    <path d=\"M 274.186254 235.238438 \nL 279.368085 235.238438 \nL 279.368085 233.737816 \nL 274.186254 233.737816 \nz\n\" clip-path=\"url(#p80ebe8909c)\" style=\"fill: #1f77b4; opacity: 0.4\"/>\n   </g>\n   <g id=\"patch_43\">\n    <path d=\"M 279.368085 235.238438 \nL 284.549916 235.238438 \nL 284.549916 235.238438 \nL 279.368085 235.238438 \nz\n\" clip-path=\"url(#p80ebe8909c)\" style=\"fill: #1f77b4; opacity: 0.4\"/>\n   </g>\n   <g id=\"patch_44\">\n    <path d=\"M 284.549916 235.238438 \nL 289.731746 235.238438 \nL 289.731746 235.238438 \nL 284.549916 235.238438 \nz\n\" clip-path=\"url(#p80ebe8909c)\" style=\"fill: #1f77b4; opacity: 0.4\"/>\n   </g>\n   <g id=\"patch_45\">\n    <path d=\"M 289.731746 235.238438 \nL 294.913577 235.238438 \nL 294.913577 235.238438 \nL 289.731746 235.238438 \nz\n\" clip-path=\"url(#p80ebe8909c)\" style=\"fill: #1f77b4; opacity: 0.4\"/>\n   </g>\n   <g id=\"patch_46\">\n    <path d=\"M 294.913577 235.238438 \nL 300.095408 235.238438 \nL 300.095408 235.238438 \nL 294.913577 235.238438 \nz\n\" clip-path=\"url(#p80ebe8909c)\" style=\"fill: #1f77b4; opacity: 0.4\"/>\n   </g>\n   <g id=\"patch_47\">\n    <path d=\"M 300.095408 235.238438 \nL 305.277238 235.238438 \nL 305.277238 235.238438 \nL 300.095408 235.238438 \nz\n\" clip-path=\"url(#p80ebe8909c)\" style=\"fill: #1f77b4; opacity: 0.4\"/>\n   </g>\n   <g id=\"patch_48\">\n    <path d=\"M 305.277238 235.238438 \nL 310.459069 235.238438 \nL 310.459069 235.238438 \nL 305.277238 235.238438 \nz\n\" clip-path=\"url(#p80ebe8909c)\" style=\"fill: #1f77b4; opacity: 0.4\"/>\n   </g>\n   <g id=\"patch_49\">\n    <path d=\"M 310.459069 235.238438 \nL 315.6409 235.238438 \nL 315.6409 235.238438 \nL 310.459069 235.238438 \nz\n\" clip-path=\"url(#p80ebe8909c)\" style=\"fill: #1f77b4; opacity: 0.4\"/>\n   </g>\n   <g id=\"patch_50\">\n    <path d=\"M 315.6409 235.238438 \nL 320.822731 235.238438 \nL 320.822731 235.238438 \nL 315.6409 235.238438 \nz\n\" clip-path=\"url(#p80ebe8909c)\" style=\"fill: #1f77b4; opacity: 0.4\"/>\n   </g>\n   <g id=\"patch_51\">\n    <path d=\"M 320.822731 235.238438 \nL 326.004561 235.238438 \nL 326.004561 235.238438 \nL 320.822731 235.238438 \nz\n\" clip-path=\"url(#p80ebe8909c)\" style=\"fill: #1f77b4; opacity: 0.4\"/>\n   </g>\n   <g id=\"patch_52\">\n    <path d=\"M 326.004561 235.238438 \nL 331.186392 235.238438 \nL 331.186392 233.737816 \nL 326.004561 233.737816 \nz\n\" clip-path=\"url(#p80ebe8909c)\" style=\"fill: #1f77b4; opacity: 0.4\"/>\n   </g>\n   <g id=\"matplotlib.axis_1\">\n    <g id=\"xtick_1\">\n     <g id=\"line2d_1\">\n      <defs>\n       <path id=\"m9bcc1350ee\" d=\"M 0 0 \nL 0 3.5 \n\" style=\"stroke: #000000; stroke-width: 0.8\"/>\n      </defs>\n      <g>\n       <use xlink:href=\"#m9bcc1350ee\" x=\"78.02687\" y=\"235.238438\" style=\"stroke: #000000; stroke-width: 0.8\"/>\n      </g>\n     </g>\n     <g id=\"text_1\">\n      <!-- 1 -->\n      <g transform=\"translate(74.84562 249.836875)scale(0.1 -0.1)\">\n       <defs>\n        <path id=\"DejaVuSans-31\" d=\"M 794 531 \nL 1825 531 \nL 1825 4091 \nL 703 3866 \nL 703 4441 \nL 1819 4666 \nL 2450 4666 \nL 2450 531 \nL 3481 531 \nL 3481 0 \nL 794 0 \nL 794 531 \nz\n\" transform=\"scale(0.015625)\"/>\n       </defs>\n       <use xlink:href=\"#DejaVuSans-31\"/>\n      </g>\n     </g>\n    </g>\n    <g id=\"xtick_2\">\n     <g id=\"line2d_2\">\n      <g>\n       <use xlink:href=\"#m9bcc1350ee\" x=\"140.469097\" y=\"235.238438\" style=\"stroke: #000000; stroke-width: 0.8\"/>\n      </g>\n     </g>\n     <g id=\"text_2\">\n      <!-- 2 -->\n      <g transform=\"translate(137.287847 249.836875)scale(0.1 -0.1)\">\n       <defs>\n        <path id=\"DejaVuSans-32\" d=\"M 1228 531 \nL 3431 531 \nL 3431 0 \nL 469 0 \nL 469 531 \nQ 828 903 1448 1529 \nQ 2069 2156 2228 2338 \nQ 2531 2678 2651 2914 \nQ 2772 3150 2772 3378 \nQ 2772 3750 2511 3984 \nQ 2250 4219 1831 4219 \nQ 1534 4219 1204 4116 \nQ 875 4013 500 3803 \nL 500 4441 \nQ 881 4594 1212 4672 \nQ 1544 4750 1819 4750 \nQ 2544 4750 2975 4387 \nQ 3406 4025 3406 3419 \nQ 3406 3131 3298 2873 \nQ 3191 2616 2906 2266 \nQ 2828 2175 2409 1742 \nQ 1991 1309 1228 531 \nz\n\" transform=\"scale(0.015625)\"/>\n       </defs>\n       <use xlink:href=\"#DejaVuSans-32\"/>\n      </g>\n     </g>\n    </g>\n    <g id=\"xtick_3\">\n     <g id=\"line2d_3\">\n      <g>\n       <use xlink:href=\"#m9bcc1350ee\" x=\"202.911324\" y=\"235.238438\" style=\"stroke: #000000; stroke-width: 0.8\"/>\n      </g>\n     </g>\n     <g id=\"text_3\">\n      <!-- 3 -->\n      <g transform=\"translate(199.730074 249.836875)scale(0.1 -0.1)\">\n       <defs>\n        <path id=\"DejaVuSans-33\" d=\"M 2597 2516 \nQ 3050 2419 3304 2112 \nQ 3559 1806 3559 1356 \nQ 3559 666 3084 287 \nQ 2609 -91 1734 -91 \nQ 1441 -91 1130 -33 \nQ 819 25 488 141 \nL 488 750 \nQ 750 597 1062 519 \nQ 1375 441 1716 441 \nQ 2309 441 2620 675 \nQ 2931 909 2931 1356 \nQ 2931 1769 2642 2001 \nQ 2353 2234 1838 2234 \nL 1294 2234 \nL 1294 2753 \nL 1863 2753 \nQ 2328 2753 2575 2939 \nQ 2822 3125 2822 3475 \nQ 2822 3834 2567 4026 \nQ 2313 4219 1838 4219 \nQ 1578 4219 1281 4162 \nQ 984 4106 628 3988 \nL 628 4550 \nQ 988 4650 1302 4700 \nQ 1616 4750 1894 4750 \nQ 2613 4750 3031 4423 \nQ 3450 4097 3450 3541 \nQ 3450 3153 3228 2886 \nQ 3006 2619 2597 2516 \nz\n\" transform=\"scale(0.015625)\"/>\n       </defs>\n       <use xlink:href=\"#DejaVuSans-33\"/>\n      </g>\n     </g>\n    </g>\n    <g id=\"xtick_4\">\n     <g id=\"line2d_4\">\n      <g>\n       <use xlink:href=\"#m9bcc1350ee\" x=\"265.353552\" y=\"235.238438\" style=\"stroke: #000000; stroke-width: 0.8\"/>\n      </g>\n     </g>\n     <g id=\"text_4\">\n      <!-- 4 -->\n      <g transform=\"translate(262.172302 249.836875)scale(0.1 -0.1)\">\n       <defs>\n        <path id=\"DejaVuSans-34\" d=\"M 2419 4116 \nL 825 1625 \nL 2419 1625 \nL 2419 4116 \nz\nM 2253 4666 \nL 3047 4666 \nL 3047 1625 \nL 3713 1625 \nL 3713 1100 \nL 3047 1100 \nL 3047 0 \nL 2419 0 \nL 2419 1100 \nL 313 1100 \nL 313 1709 \nL 2253 4666 \nz\n\" transform=\"scale(0.015625)\"/>\n       </defs>\n       <use xlink:href=\"#DejaVuSans-34\"/>\n      </g>\n     </g>\n    </g>\n    <g id=\"xtick_5\">\n     <g id=\"line2d_5\">\n      <g>\n       <use xlink:href=\"#m9bcc1350ee\" x=\"327.795779\" y=\"235.238438\" style=\"stroke: #000000; stroke-width: 0.8\"/>\n      </g>\n     </g>\n     <g id=\"text_5\">\n      <!-- 5 -->\n      <g transform=\"translate(324.614529 249.836875)scale(0.1 -0.1)\">\n       <defs>\n        <path id=\"DejaVuSans-35\" d=\"M 691 4666 \nL 3169 4666 \nL 3169 4134 \nL 1269 4134 \nL 1269 2991 \nQ 1406 3038 1543 3061 \nQ 1681 3084 1819 3084 \nQ 2600 3084 3056 2656 \nQ 3513 2228 3513 1497 \nQ 3513 744 3044 326 \nQ 2575 -91 1722 -91 \nQ 1428 -91 1123 -41 \nQ 819 9 494 109 \nL 494 744 \nQ 775 591 1075 516 \nQ 1375 441 1709 441 \nQ 2250 441 2565 725 \nQ 2881 1009 2881 1497 \nQ 2881 1984 2565 2268 \nQ 2250 2553 1709 2553 \nQ 1456 2553 1204 2497 \nQ 953 2441 691 2322 \nL 691 4666 \nz\n\" transform=\"scale(0.015625)\"/>\n       </defs>\n       <use xlink:href=\"#DejaVuSans-35\"/>\n      </g>\n     </g>\n    </g>\n    <g id=\"text_6\">\n     <!-- 1e6 -->\n     <g transform=\"translate(350.1625 262.515)scale(0.1 -0.1)\">\n      <defs>\n       <path id=\"DejaVuSans-65\" d=\"M 3597 1894 \nL 3597 1613 \nL 953 1613 \nQ 991 1019 1311 708 \nQ 1631 397 2203 397 \nQ 2534 397 2845 478 \nQ 3156 559 3463 722 \nL 3463 178 \nQ 3153 47 2828 -22 \nQ 2503 -91 2169 -91 \nQ 1331 -91 842 396 \nQ 353 884 353 1716 \nQ 353 2575 817 3079 \nQ 1281 3584 2069 3584 \nQ 2775 3584 3186 3129 \nQ 3597 2675 3597 1894 \nz\nM 3022 2063 \nQ 3016 2534 2758 2815 \nQ 2500 3097 2075 3097 \nQ 1594 3097 1305 2825 \nQ 1016 2553 972 2059 \nL 3022 2063 \nz\n\" transform=\"scale(0.015625)\"/>\n       <path id=\"DejaVuSans-36\" d=\"M 2113 2584 \nQ 1688 2584 1439 2293 \nQ 1191 2003 1191 1497 \nQ 1191 994 1439 701 \nQ 1688 409 2113 409 \nQ 2538 409 2786 701 \nQ 3034 994 3034 1497 \nQ 3034 2003 2786 2293 \nQ 2538 2584 2113 2584 \nz\nM 3366 4563 \nL 3366 3988 \nQ 3128 4100 2886 4159 \nQ 2644 4219 2406 4219 \nQ 1781 4219 1451 3797 \nQ 1122 3375 1075 2522 \nQ 1259 2794 1537 2939 \nQ 1816 3084 2150 3084 \nQ 2853 3084 3261 2657 \nQ 3669 2231 3669 1497 \nQ 3669 778 3244 343 \nQ 2819 -91 2113 -91 \nQ 1303 -91 875 529 \nQ 447 1150 447 2328 \nQ 447 3434 972 4092 \nQ 1497 4750 2381 4750 \nQ 2619 4750 2861 4703 \nQ 3103 4656 3366 4563 \nz\n\" transform=\"scale(0.015625)\"/>\n      </defs>\n      <use xlink:href=\"#DejaVuSans-31\"/>\n      <use xlink:href=\"#DejaVuSans-65\" x=\"63.623047\"/>\n      <use xlink:href=\"#DejaVuSans-36\" x=\"125.146484\"/>\n     </g>\n    </g>\n   </g>\n   <g id=\"matplotlib.axis_2\">\n    <g id=\"ytick_1\">\n     <g id=\"line2d_6\">\n      <defs>\n       <path id=\"m51108a39f3\" d=\"M 0 0 \nL -3.5 0 \n\" style=\"stroke: #000000; stroke-width: 0.8\"/>\n      </defs>\n      <g>\n       <use xlink:href=\"#m51108a39f3\" x=\"34.240625\" y=\"235.238438\" style=\"stroke: #000000; stroke-width: 0.8\"/>\n      </g>\n     </g>\n     <g id=\"text_7\">\n      <!-- 0 -->\n      <g transform=\"translate(20.878125 239.037656)scale(0.1 -0.1)\">\n       <defs>\n        <path id=\"DejaVuSans-30\" d=\"M 2034 4250 \nQ 1547 4250 1301 3770 \nQ 1056 3291 1056 2328 \nQ 1056 1369 1301 889 \nQ 1547 409 2034 409 \nQ 2525 409 2770 889 \nQ 3016 1369 3016 2328 \nQ 3016 3291 2770 3770 \nQ 2525 4250 2034 4250 \nz\nM 2034 4750 \nQ 2819 4750 3233 4129 \nQ 3647 3509 3647 2328 \nQ 3647 1150 3233 529 \nQ 2819 -91 2034 -91 \nQ 1250 -91 836 529 \nQ 422 1150 422 2328 \nQ 422 3509 836 4129 \nQ 1250 4750 2034 4750 \nz\n\" transform=\"scale(0.015625)\"/>\n       </defs>\n       <use xlink:href=\"#DejaVuSans-30\"/>\n      </g>\n     </g>\n    </g>\n    <g id=\"ytick_2\">\n     <g id=\"line2d_7\">\n      <g>\n       <use xlink:href=\"#m51108a39f3\" x=\"34.240625\" y=\"193.147114\" style=\"stroke: #000000; stroke-width: 0.8\"/>\n      </g>\n     </g>\n     <g id=\"text_8\">\n      <!-- 1 -->\n      <g transform=\"translate(20.878125 196.946332)scale(0.1 -0.1)\">\n       <use xlink:href=\"#DejaVuSans-31\"/>\n      </g>\n     </g>\n    </g>\n    <g id=\"ytick_3\">\n     <g id=\"line2d_8\">\n      <g>\n       <use xlink:href=\"#m51108a39f3\" x=\"34.240625\" y=\"151.05579\" style=\"stroke: #000000; stroke-width: 0.8\"/>\n      </g>\n     </g>\n     <g id=\"text_9\">\n      <!-- 2 -->\n      <g transform=\"translate(20.878125 154.855008)scale(0.1 -0.1)\">\n       <use xlink:href=\"#DejaVuSans-32\"/>\n      </g>\n     </g>\n    </g>\n    <g id=\"ytick_4\">\n     <g id=\"line2d_9\">\n      <g>\n       <use xlink:href=\"#m51108a39f3\" x=\"34.240625\" y=\"108.964466\" style=\"stroke: #000000; stroke-width: 0.8\"/>\n      </g>\n     </g>\n     <g id=\"text_10\">\n      <!-- 3 -->\n      <g transform=\"translate(20.878125 112.763685)scale(0.1 -0.1)\">\n       <use xlink:href=\"#DejaVuSans-33\"/>\n      </g>\n     </g>\n    </g>\n    <g id=\"ytick_5\">\n     <g id=\"line2d_10\">\n      <g>\n       <use xlink:href=\"#m51108a39f3\" x=\"34.240625\" y=\"66.873142\" style=\"stroke: #000000; stroke-width: 0.8\"/>\n      </g>\n     </g>\n     <g id=\"text_11\">\n      <!-- 4 -->\n      <g transform=\"translate(20.878125 70.672361)scale(0.1 -0.1)\">\n       <use xlink:href=\"#DejaVuSans-34\"/>\n      </g>\n     </g>\n    </g>\n    <g id=\"ytick_6\">\n     <g id=\"line2d_11\">\n      <g>\n       <use xlink:href=\"#m51108a39f3\" x=\"34.240625\" y=\"24.781818\" style=\"stroke: #000000; stroke-width: 0.8\"/>\n      </g>\n     </g>\n     <g id=\"text_12\">\n      <!-- 5 -->\n      <g transform=\"translate(20.878125 28.581037)scale(0.1 -0.1)\">\n       <use xlink:href=\"#DejaVuSans-35\"/>\n      </g>\n     </g>\n    </g>\n    <g id=\"text_13\">\n     <!-- Density -->\n     <g transform=\"translate(14.798437 145.527031)rotate(-90)scale(0.1 -0.1)\">\n      <defs>\n       <path id=\"DejaVuSans-44\" d=\"M 1259 4147 \nL 1259 519 \nL 2022 519 \nQ 2988 519 3436 956 \nQ 3884 1394 3884 2338 \nQ 3884 3275 3436 3711 \nQ 2988 4147 2022 4147 \nL 1259 4147 \nz\nM 628 4666 \nL 1925 4666 \nQ 3281 4666 3915 4102 \nQ 4550 3538 4550 2338 \nQ 4550 1131 3912 565 \nQ 3275 0 1925 0 \nL 628 0 \nL 628 4666 \nz\n\" transform=\"scale(0.015625)\"/>\n       <path id=\"DejaVuSans-6e\" d=\"M 3513 2113 \nL 3513 0 \nL 2938 0 \nL 2938 2094 \nQ 2938 2591 2744 2837 \nQ 2550 3084 2163 3084 \nQ 1697 3084 1428 2787 \nQ 1159 2491 1159 1978 \nL 1159 0 \nL 581 0 \nL 581 3500 \nL 1159 3500 \nL 1159 2956 \nQ 1366 3272 1645 3428 \nQ 1925 3584 2291 3584 \nQ 2894 3584 3203 3211 \nQ 3513 2838 3513 2113 \nz\n\" transform=\"scale(0.015625)\"/>\n       <path id=\"DejaVuSans-73\" d=\"M 2834 3397 \nL 2834 2853 \nQ 2591 2978 2328 3040 \nQ 2066 3103 1784 3103 \nQ 1356 3103 1142 2972 \nQ 928 2841 928 2578 \nQ 928 2378 1081 2264 \nQ 1234 2150 1697 2047 \nL 1894 2003 \nQ 2506 1872 2764 1633 \nQ 3022 1394 3022 966 \nQ 3022 478 2636 193 \nQ 2250 -91 1575 -91 \nQ 1294 -91 989 -36 \nQ 684 19 347 128 \nL 347 722 \nQ 666 556 975 473 \nQ 1284 391 1588 391 \nQ 1994 391 2212 530 \nQ 2431 669 2431 922 \nQ 2431 1156 2273 1281 \nQ 2116 1406 1581 1522 \nL 1381 1569 \nQ 847 1681 609 1914 \nQ 372 2147 372 2553 \nQ 372 3047 722 3315 \nQ 1072 3584 1716 3584 \nQ 2034 3584 2315 3537 \nQ 2597 3491 2834 3397 \nz\n\" transform=\"scale(0.015625)\"/>\n       <path id=\"DejaVuSans-69\" d=\"M 603 3500 \nL 1178 3500 \nL 1178 0 \nL 603 0 \nL 603 3500 \nz\nM 603 4863 \nL 1178 4863 \nL 1178 4134 \nL 603 4134 \nL 603 4863 \nz\n\" transform=\"scale(0.015625)\"/>\n       <path id=\"DejaVuSans-74\" d=\"M 1172 4494 \nL 1172 3500 \nL 2356 3500 \nL 2356 3053 \nL 1172 3053 \nL 1172 1153 \nQ 1172 725 1289 603 \nQ 1406 481 1766 481 \nL 2356 481 \nL 2356 0 \nL 1766 0 \nQ 1100 0 847 248 \nQ 594 497 594 1153 \nL 594 3053 \nL 172 3053 \nL 172 3500 \nL 594 3500 \nL 594 4494 \nL 1172 4494 \nz\n\" transform=\"scale(0.015625)\"/>\n       <path id=\"DejaVuSans-79\" d=\"M 2059 -325 \nQ 1816 -950 1584 -1140 \nQ 1353 -1331 966 -1331 \nL 506 -1331 \nL 506 -850 \nL 844 -850 \nQ 1081 -850 1212 -737 \nQ 1344 -625 1503 -206 \nL 1606 56 \nL 191 3500 \nL 800 3500 \nL 1894 763 \nL 2988 3500 \nL 3597 3500 \nL 2059 -325 \nz\n\" transform=\"scale(0.015625)\"/>\n      </defs>\n      <use xlink:href=\"#DejaVuSans-44\"/>\n      <use xlink:href=\"#DejaVuSans-65\" x=\"77.001953\"/>\n      <use xlink:href=\"#DejaVuSans-6e\" x=\"138.525391\"/>\n      <use xlink:href=\"#DejaVuSans-73\" x=\"201.904297\"/>\n      <use xlink:href=\"#DejaVuSans-69\" x=\"254.003906\"/>\n      <use xlink:href=\"#DejaVuSans-74\" x=\"281.787109\"/>\n      <use xlink:href=\"#DejaVuSans-79\" x=\"320.996094\"/>\n     </g>\n    </g>\n    <g id=\"text_14\">\n     <!-- 1e−6 -->\n     <g transform=\"translate(34.240625 14.798437)scale(0.1 -0.1)\">\n      <defs>\n       <path id=\"DejaVuSans-2212\" d=\"M 678 2272 \nL 4684 2272 \nL 4684 1741 \nL 678 1741 \nL 678 2272 \nz\n\" transform=\"scale(0.015625)\"/>\n      </defs>\n      <use xlink:href=\"#DejaVuSans-31\"/>\n      <use xlink:href=\"#DejaVuSans-65\" x=\"63.623047\"/>\n      <use xlink:href=\"#DejaVuSans-2212\" x=\"125.146484\"/>\n      <use xlink:href=\"#DejaVuSans-36\" x=\"208.935547\"/>\n     </g>\n    </g>\n   </g>\n   <g id=\"line2d_12\">\n    <path d=\"M 49.458807 235.211034 \nL 55.576669 235.013817 \nL 58.6356 234.735863 \nL 61.694531 234.284381 \nL 69.341858 232.930472 \nL 72.400789 232.773633 \nL 75.45972 233.005008 \nL 78.518651 233.521026 \nL 83.107048 234.38416 \nL 86.165979 234.792545 \nL 89.22491 235.017513 \nL 93.813307 235.090675 \nL 112.166893 234.939673 \nL 122.873151 235.174841 \nL 128.991013 235.08825 \nL 136.638341 234.717127 \nL 141.226737 234.334273 \nL 144.285668 233.79551 \nL 145.815134 233.290396 \nL 147.344599 232.49574 \nL 148.874065 231.26456 \nL 150.40353 229.409761 \nL 151.932996 226.711419 \nL 153.462461 222.935649 \nL 154.991927 217.867005 \nL 156.521392 211.353273 \nL 158.050858 203.357127 \nL 159.580323 194.004603 \nL 162.639255 172.715435 \nL 164.16872 161.983564 \nL 165.698186 152.198741 \nL 167.227651 144.13139 \nL 168.757117 138.4373 \nL 170.286582 135.563269 \nL 171.816048 135.686373 \nL 173.345513 138.698671 \nL 174.874979 144.237806 \nL 176.404444 151.753343 \nL 177.93391 160.591951 \nL 182.522306 188.669053 \nL 184.051772 196.876196 \nL 185.581237 203.994835 \nL 187.110703 209.916012 \nL 188.640168 214.641963 \nL 190.169634 218.261651 \nL 191.699099 220.923616 \nL 193.228565 222.808578 \nL 194.75803 224.104167 \nL 196.287496 224.984075 \nL 197.816961 225.593657 \nL 200.875892 226.407665 \nL 208.52322 228.079199 \nL 211.582151 228.954385 \nL 214.641082 230.038247 \nL 222.288409 232.964495 \nL 225.34734 233.762053 \nL 228.406271 234.171545 \nL 231.465202 234.186741 \nL 234.524133 233.878516 \nL 243.700927 232.510891 \nL 246.759858 232.366531 \nL 249.818789 232.446857 \nL 254.407185 232.874895 \nL 265.113444 234.100649 \nL 271.231306 234.450028 \nL 291.114357 235.1917 \nL 304.879547 235.237307 \nL 318.644736 235.13515 \nL 333.939392 234.853777 \nL 353.822443 235.23387 \nL 353.822443 235.23387 \n\" clip-path=\"url(#p80ebe8909c)\" style=\"fill: none; stroke: #1f77b4; stroke-width: 1.5; stroke-linecap: square\"/>\n   </g>\n   <g id=\"patch_53\">\n    <path d=\"M 34.240625 235.238438 \nL 34.240625 17.798438 \n\" style=\"fill: none; stroke: #000000; stroke-width: 0.8; stroke-linejoin: miter; stroke-linecap: square\"/>\n   </g>\n   <g id=\"patch_54\">\n    <path d=\"M 369.040625 235.238438 \nL 369.040625 17.798438 \n\" style=\"fill: none; stroke: #000000; stroke-width: 0.8; stroke-linejoin: miter; stroke-linecap: square\"/>\n   </g>\n   <g id=\"patch_55\">\n    <path d=\"M 34.240625 235.238438 \nL 369.040625 235.238438 \n\" style=\"fill: none; stroke: #000000; stroke-width: 0.8; stroke-linejoin: miter; stroke-linecap: square\"/>\n   </g>\n   <g id=\"patch_56\">\n    <path d=\"M 34.240625 17.798438 \nL 369.040625 17.798438 \n\" style=\"fill: none; stroke: #000000; stroke-width: 0.8; stroke-linejoin: miter; stroke-linecap: square\"/>\n   </g>\n  </g>\n </g>\n <defs>\n  <clipPath id=\"p80ebe8909c\">\n   <rect x=\"34.240625\" y=\"17.798438\" width=\"334.8\" height=\"217.44\"/>\n  </clipPath>\n </defs>\n</svg>\n",
      "image/png": "[encoded data removed]"
     },
     "metadata": {
      "needs_background": "light"
     }
    }
   ],
   "source": [
    "# cek gambaran umum data berdasar harga\n",
    "df_price = df.loc[:, ['Price']]\n",
    "sns.distplot(df_price.sort_values(by=['Price'], ascending=True, axis=0))"
   ]
  },
  {
   "cell_type": "code",
   "execution_count": 13,
   "metadata": {},
   "outputs": [
    {
     "output_type": "execute_result",
     "data": {
      "text/plain": [
       "     #  \\\n",
       "0    1   \n",
       "0    1   \n",
       "0    1   \n",
       "0    1   \n",
       "0    1   \n",
       "..  ..   \n",
       "21  22   \n",
       "15  16   \n",
       "11  12   \n",
       "27  28   \n",
       "12  13   \n",
       "\n",
       "                                                                         Product Name  \\\n",
       "0                                                         XIAOMI REDMI NOTE 4X 4/64GB   \n",
       "0                                                         XIAOMI REDMI NOTE 4X 4/64GB   \n",
       "0                                                         XIAOMI REDMI NOTE 4X 4/64GB   \n",
       "0                                                         XIAOMI REDMI NOTE 4X 4/64GB   \n",
       "0                                                         XIAOMI REDMI NOTE 4X 4/64GB   \n",
       "..                                                                                ...   \n",
       "21               Xiaomi Redmi Note 11 Ram 4 Gb 6 Gb Internal 128 Gb NFC Garansi Resmi   \n",
       "15  XIAOMI REDMI NOTE 11 NFC 4GB+128GB - 6GB+128GB [ESPANSI RAM 6GB+2GB] - Grey 4/128   \n",
       "11                             Note Xiaomi 1 - 4 128GB Tahun 6 128GB Redmi Garansi 11   \n",
       "27                                         SALE REDMI NOTE 11 4/128 GARANSI RESMI NEW   \n",
       "12               Xiaomi Redmi Note 11 4Gb+128Gb 6Gb+128Gb Snapdragon 680 50Mp Ai Quad   \n",
       "\n",
       "                                                                                                          Product URL  \\\n",
       "0                                                   https://www.tokopedia.com/daystoresid/xiaomi-redmi-note-4x-4-64gb   \n",
       "0                                                   https://www.tokopedia.com/daystoresid/xiaomi-redmi-note-4x-4-64gb   \n",
       "0                                                   https://www.tokopedia.com/daystoresid/xiaomi-redmi-note-4x-4-64gb   \n",
       "0                                                   https://www.tokopedia.com/daystoresid/xiaomi-redmi-note-4x-4-64gb   \n",
       "0                                                   https://www.tokopedia.com/daystoresid/xiaomi-redmi-note-4x-4-64gb   \n",
       "..                                                                                                                ...   \n",
       "21           https://www.tokopedia.com/hinatasel/xiaomi-redmi-note-11-ram-4-gb-6-gb-internal-128-gb-nfc-garansi-resmi   \n",
       "15  https://www.tokopedia.com/rakkabuming/xiaomi-redmi-note-11-nfc-4gb-128gb-6gb-128gb-espansi-ram-6gb-2gb-grey-4-128   \n",
       "11           https://www.tokopedia.com/archive-jkewek-1632494736/note-xiaomi-1-4-128gb-tahun-6-128gb-redmi-garansi-11   \n",
       "27                                    https://www.tokopedia.com/angeltoko2/sale-redmi-note-11-4-128-garansi-resmi-new   \n",
       "12            https://www.tokopedia.com/sahira19/xiaomi-redmi-note-11-4gb-128gb-6gb-128gb-snapdragon-680-50mp-ai-quad   \n",
       "\n",
       "      Price    Category  Reviews  Sold  Views  Rating     Seller Name  \\\n",
       "0    905000  Android OS        7    33   5356     4.4     daystore_id   \n",
       "0    905000  Android OS        7    33   5356     4.4     daystore_id   \n",
       "0    905000  Android OS        7    33   5356     4.4     daystore_id   \n",
       "0    905000  Android OS        7    33   5356     4.4     daystore_id   \n",
       "0    905000  Android OS        7    33   5356     4.4     daystore_id   \n",
       "..      ...         ...      ...   ...    ...     ...             ...   \n",
       "21  3818000  Android OS        0     0      0     0.0  hinatasel shop   \n",
       "15  3863000  Android OS        0     0      0     0.0     Rakkabuming   \n",
       "11  4000620  Android OS        0     0      2     0.0          jkewek   \n",
       "27  4159000  Android OS        0     0      0     0.0     angel toko2   \n",
       "12  5054300  Android OS        0     0      0     0.0        SAHIRA19   \n",
       "\n",
       "                                             Seller URL          Location  \\\n",
       "0                 https://www.tokopedia.com/daystoresid     Jakarta Pusat   \n",
       "0                 https://www.tokopedia.com/daystoresid     Jakarta Pusat   \n",
       "0                 https://www.tokopedia.com/daystoresid     Jakarta Pusat   \n",
       "0                 https://www.tokopedia.com/daystoresid     Jakarta Pusat   \n",
       "0                 https://www.tokopedia.com/daystoresid     Jakarta Pusat   \n",
       "..                                                  ...               ...   \n",
       "21                  https://www.tokopedia.com/hinatasel   Jakarta Selatan   \n",
       "15                https://www.tokopedia.com/rakkabuming     Jakarta Barat   \n",
       "11  https://www.tokopedia.com/archive-jkewek-1632494736  Kota Banjarmasin   \n",
       "27                 https://www.tokopedia.com/angeltoko2     Jakarta Barat   \n",
       "12                   https://www.tokopedia.com/sahira19     Kota Surabaya   \n",
       "\n",
       "    Error  \n",
       "0   False  \n",
       "0   False  \n",
       "0   False  \n",
       "0   False  \n",
       "0   False  \n",
       "..    ...  \n",
       "21  False  \n",
       "15  False  \n",
       "11  False  \n",
       "27  False  \n",
       "12  False  \n",
       "\n",
       "[338 rows x 13 columns]"
      ],
      "text/html": "<div>\n<style scoped>\n    .dataframe tbody tr th:only-of-type {\n        vertical-align: middle;\n    }\n\n    .dataframe tbody tr th {\n        vertical-align: top;\n    }\n\n    .dataframe thead th {\n        text-align: right;\n    }\n</style>\n<table border=\"1\" class=\"dataframe\">\n  <thead>\n    <tr style=\"text-align: right;\">\n      <th></th>\n      <th>#</th>\n      <th>Product Name</th>\n      <th>Product URL</th>\n      <th>Price</th>\n      <th>Category</th>\n      <th>Reviews</th>\n      <th>Sold</th>\n      <th>Views</th>\n      <th>Rating</th>\n      <th>Seller Name</th>\n      <th>Seller URL</th>\n      <th>Location</th>\n      <th>Error</th>\n    </tr>\n  </thead>\n  <tbody>\n    <tr>\n      <th>0</th>\n      <td>1</td>\n      <td>XIAOMI REDMI NOTE 4X 4/64GB</td>\n      <td>https://www.tokopedia.com/daystoresid/xiaomi-redmi-note-4x-4-64gb</td>\n      <td>905000</td>\n      <td>Android OS</td>\n      <td>7</td>\n      <td>33</td>\n      <td>5356</td>\n      <td>4.4</td>\n      <td>daystore_id</td>\n      <td>https://www.tokopedia.com/daystoresid</td>\n      <td>Jakarta Pusat</td>\n      <td>False</td>\n    </tr>\n    <tr>\n      <th>0</th>\n      <td>1</td>\n      <td>XIAOMI REDMI NOTE 4X 4/64GB</td>\n      <td>https://www.tokopedia.com/daystoresid/xiaomi-redmi-note-4x-4-64gb</td>\n      <td>905000</td>\n      <td>Android OS</td>\n      <td>7</td>\n      <td>33</td>\n      <td>5356</td>\n      <td>4.4</td>\n      <td>daystore_id</td>\n      <td>https://www.tokopedia.com/daystoresid</td>\n      <td>Jakarta Pusat</td>\n      <td>False</td>\n    </tr>\n    <tr>\n      <th>0</th>\n      <td>1</td>\n      <td>XIAOMI REDMI NOTE 4X 4/64GB</td>\n      <td>https://www.tokopedia.com/daystoresid/xiaomi-redmi-note-4x-4-64gb</td>\n      <td>905000</td>\n      <td>Android OS</td>\n      <td>7</td>\n      <td>33</td>\n      <td>5356</td>\n      <td>4.4</td>\n      <td>daystore_id</td>\n      <td>https://www.tokopedia.com/daystoresid</td>\n      <td>Jakarta Pusat</td>\n      <td>False</td>\n    </tr>\n    <tr>\n      <th>0</th>\n      <td>1</td>\n      <td>XIAOMI REDMI NOTE 4X 4/64GB</td>\n      <td>https://www.tokopedia.com/daystoresid/xiaomi-redmi-note-4x-4-64gb</td>\n      <td>905000</td>\n      <td>Android OS</td>\n      <td>7</td>\n      <td>33</td>\n      <td>5356</td>\n      <td>4.4</td>\n      <td>daystore_id</td>\n      <td>https://www.tokopedia.com/daystoresid</td>\n      <td>Jakarta Pusat</td>\n      <td>False</td>\n    </tr>\n    <tr>\n      <th>0</th>\n      <td>1</td>\n      <td>XIAOMI REDMI NOTE 4X 4/64GB</td>\n      <td>https://www.tokopedia.com/daystoresid/xiaomi-redmi-note-4x-4-64gb</td>\n      <td>905000</td>\n      <td>Android OS</td>\n      <td>7</td>\n      <td>33</td>\n      <td>5356</td>\n      <td>4.4</td>\n      <td>daystore_id</td>\n      <td>https://www.tokopedia.com/daystoresid</td>\n      <td>Jakarta Pusat</td>\n      <td>False</td>\n    </tr>\n    <tr>\n      <th>...</th>\n      <td>...</td>\n      <td>...</td>\n      <td>...</td>\n      <td>...</td>\n      <td>...</td>\n      <td>...</td>\n      <td>...</td>\n      <td>...</td>\n      <td>...</td>\n      <td>...</td>\n      <td>...</td>\n      <td>...</td>\n      <td>...</td>\n    </tr>\n    <tr>\n      <th>21</th>\n      <td>22</td>\n      <td>Xiaomi Redmi Note 11 Ram 4 Gb 6 Gb Internal 128 Gb NFC Garansi Resmi</td>\n      <td>https://www.tokopedia.com/hinatasel/xiaomi-redmi-note-11-ram-4-gb-6-gb-internal-128-gb-nfc-garansi-resmi</td>\n      <td>3818000</td>\n      <td>Android OS</td>\n      <td>0</td>\n      <td>0</td>\n      <td>0</td>\n      <td>0.0</td>\n      <td>hinatasel shop</td>\n      <td>https://www.tokopedia.com/hinatasel</td>\n      <td>Jakarta Selatan</td>\n      <td>False</td>\n    </tr>\n    <tr>\n      <th>15</th>\n      <td>16</td>\n      <td>XIAOMI REDMI NOTE 11 NFC 4GB+128GB - 6GB+128GB [ESPANSI RAM 6GB+2GB] - Grey 4/128</td>\n      <td>https://www.tokopedia.com/rakkabuming/xiaomi-redmi-note-11-nfc-4gb-128gb-6gb-128gb-espansi-ram-6gb-2gb-grey-4-128</td>\n      <td>3863000</td>\n      <td>Android OS</td>\n      <td>0</td>\n      <td>0</td>\n      <td>0</td>\n      <td>0.0</td>\n      <td>Rakkabuming</td>\n      <td>https://www.tokopedia.com/rakkabuming</td>\n      <td>Jakarta Barat</td>\n      <td>False</td>\n    </tr>\n    <tr>\n      <th>11</th>\n      <td>12</td>\n      <td>Note Xiaomi 1 - 4 128GB Tahun 6 128GB Redmi Garansi 11</td>\n      <td>https://www.tokopedia.com/archive-jkewek-1632494736/note-xiaomi-1-4-128gb-tahun-6-128gb-redmi-garansi-11</td>\n      <td>4000620</td>\n      <td>Android OS</td>\n      <td>0</td>\n      <td>0</td>\n      <td>2</td>\n      <td>0.0</td>\n      <td>jkewek</td>\n      <td>https://www.tokopedia.com/archive-jkewek-1632494736</td>\n      <td>Kota Banjarmasin</td>\n      <td>False</td>\n    </tr>\n    <tr>\n      <th>27</th>\n      <td>28</td>\n      <td>SALE REDMI NOTE 11 4/128 GARANSI RESMI NEW</td>\n      <td>https://www.tokopedia.com/angeltoko2/sale-redmi-note-11-4-128-garansi-resmi-new</td>\n      <td>4159000</td>\n      <td>Android OS</td>\n      <td>0</td>\n      <td>0</td>\n      <td>0</td>\n      <td>0.0</td>\n      <td>angel toko2</td>\n      <td>https://www.tokopedia.com/angeltoko2</td>\n      <td>Jakarta Barat</td>\n      <td>False</td>\n    </tr>\n    <tr>\n      <th>12</th>\n      <td>13</td>\n      <td>Xiaomi Redmi Note 11 4Gb+128Gb 6Gb+128Gb Snapdragon 680 50Mp Ai Quad</td>\n      <td>https://www.tokopedia.com/sahira19/xiaomi-redmi-note-11-4gb-128gb-6gb-128gb-snapdragon-680-50mp-ai-quad</td>\n      <td>5054300</td>\n      <td>Android OS</td>\n      <td>0</td>\n      <td>0</td>\n      <td>0</td>\n      <td>0.0</td>\n      <td>SAHIRA19</td>\n      <td>https://www.tokopedia.com/sahira19</td>\n      <td>Kota Surabaya</td>\n      <td>False</td>\n    </tr>\n  </tbody>\n</table>\n<p>338 rows × 13 columns</p>\n</div>"
     },
     "metadata": {},
     "execution_count": 13
    }
   ],
   "source": [
    "# dari distplot terlihat ada outlier\n",
    "# lihat seluruh harga yang diurutkan\n",
    "df_price = df.sort_values(by=['Price'], ascending=True, axis=0)\n",
    "df_price"
   ]
  },
  {
   "cell_type": "code",
   "execution_count": 14,
   "metadata": {},
   "outputs": [
    {
     "output_type": "execute_result",
     "data": {
      "text/plain": [
       "                                       Product Name\n",
       "count                                           338\n",
       "unique                                          278\n",
       "top     Xiaomi Redmi Note 11 4/128 GB Garansi Resmi\n",
       "freq                                             11"
      ],
      "text/html": "<div>\n<style scoped>\n    .dataframe tbody tr th:only-of-type {\n        vertical-align: middle;\n    }\n\n    .dataframe tbody tr th {\n        vertical-align: top;\n    }\n\n    .dataframe thead th {\n        text-align: right;\n    }\n</style>\n<table border=\"1\" class=\"dataframe\">\n  <thead>\n    <tr style=\"text-align: right;\">\n      <th></th>\n      <th>Product Name</th>\n    </tr>\n  </thead>\n  <tbody>\n    <tr>\n      <th>count</th>\n      <td>338</td>\n    </tr>\n    <tr>\n      <th>unique</th>\n      <td>278</td>\n    </tr>\n    <tr>\n      <th>top</th>\n      <td>Xiaomi Redmi Note 11 4/128 GB Garansi Resmi</td>\n    </tr>\n    <tr>\n      <th>freq</th>\n      <td>11</td>\n    </tr>\n  </tbody>\n</table>\n</div>"
     },
     "metadata": {},
     "execution_count": 14
    }
   ],
   "source": [
    "# dari hasil di atas terlihat ada beberapa produk yang tidak kita ingingkan(noisy data)\n",
    "# gambaran umum data berdasar nama produk\n",
    "\n",
    "df_name = df.loc[:, ['Product Name']]\n",
    "df_name.describe() #sepertinya ada produk lain selain xiaomi redmi note 11"
   ]
  },
  {
   "cell_type": "code",
   "execution_count": 15,
   "metadata": {},
   "outputs": [
    {
     "output_type": "execute_result",
     "data": {
      "text/plain": [
       "                                                                                          Product Name  \\\n",
       "143  Infinix Hot 11 4/64 Bukan Redmi Note 9 9c 9t Poco M3 10 10s 6/128 - Warna Random, InfHot 11s 4/64   \n",
       "219                                   Xiaomi Redmi Note 11 4GB+128GB - 6GB+128GB (Espansi Ram 6GB+2GB)   \n",
       "33                                          Redmi Note 11 4/128 Garansi Juni 2023 Like New Fullset Ori   \n",
       "34                                             Redmi Note 11 4/128 Garansi Juni 2023 Like New Full Ori   \n",
       "289                                               XIAOMI REDMI NOTE 11 RAM 4/128 GB GARANSI RESMI BNOB   \n",
       "..                                                                                                 ...   \n",
       "164                                                               Xiaomi Redmi Note 11 Pro Ram 8/128GB   \n",
       "166                               Xiaomi Redmi Note 11 Ram 4 Gb 6 Gb Internal 128 Gb NFC Garansi Resmi   \n",
       "293                  XIAOMI REDMI NOTE 11 NFC 4GB+128GB - 6GB+128GB [ESPANSI RAM 6GB+2GB] - Grey 4/128   \n",
       "298                                                         SALE REDMI NOTE 11 4/128 GARANSI RESMI NEW   \n",
       "231                               Xiaomi Redmi Note 11 4Gb+128Gb 6Gb+128Gb Snapdragon 680 50Mp Ai Quad   \n",
       "\n",
       "       Price    Category     Seller Name         Location  \\\n",
       "143  2000000  Android OS  Best Sale Shop    Kota Semarang   \n",
       "219  2124150  Android OS         Sutar y    Jakarta Barat   \n",
       "33   2275000  Android OS          RIKORA   Kota Surakarta   \n",
       "34   2290000  Android OS          RIKORA   Kota Surakarta   \n",
       "289  2300000  Android OS      blitzzzzzz    Kota Surabaya   \n",
       "..       ...         ...             ...              ...   \n",
       "164  3800000  Android OS      Dessy_Cell       Kota Depok   \n",
       "166  3818000  Android OS  hinatasel shop  Jakarta Selatan   \n",
       "293  3863000  Android OS     Rakkabuming    Jakarta Barat   \n",
       "298  4159000  Android OS     angel toko2    Jakarta Barat   \n",
       "231  5054300  Android OS        SAHIRA19    Kota Surabaya   \n",
       "\n",
       "                                                                                                                           Product URL  \\\n",
       "143  https://www.tokopedia.com/bestsale/infinix-hot-11-4-64-bukan-redmi-note-9-9c-9t-poco-m3-10-10s-6-128-warna-random-infhot-11s-4-64   \n",
       "219                                      https://www.tokopedia.com/sutary/xiaomi-redmi-note-11-4gb-128gb-6gb-128gb-espansi-ram-6gb-2gb   \n",
       "33                                         https://www.tokopedia.com/rikora/redmi-note-11-4-128-garansi-juni-2023-like-new-fullset-ori   \n",
       "34                                            https://www.tokopedia.com/rikora/redmi-note-11-4-128-garansi-juni-2023-like-new-full-ori   \n",
       "289                                          https://www.tokopedia.com/blitzzzzzz/xiaomi-redmi-note-11-ram-4-128-gb-garansi-resmi-bnob   \n",
       "..                                                                                                                                 ...   \n",
       "164                                                             https://www.tokopedia.com/oyonkun/xiaomi-redmi-note-11-pro-ram-8-128gb   \n",
       "166                           https://www.tokopedia.com/hinatasel/xiaomi-redmi-note-11-ram-4-gb-6-gb-internal-128-gb-nfc-garansi-resmi   \n",
       "293                  https://www.tokopedia.com/rakkabuming/xiaomi-redmi-note-11-nfc-4gb-128gb-6gb-128gb-espansi-ram-6gb-2gb-grey-4-128   \n",
       "298                                                    https://www.tokopedia.com/angeltoko2/sale-redmi-note-11-4-128-garansi-resmi-new   \n",
       "231                            https://www.tokopedia.com/sahira19/xiaomi-redmi-note-11-4gb-128gb-6gb-128gb-snapdragon-680-50mp-ai-quad   \n",
       "\n",
       "     Sold  Views  Reviews  Rating  \n",
       "143     7   2388        1     5.0  \n",
       "219     0      8        0     0.0  \n",
       "33      0    206        0     0.0  \n",
       "34      0     90        0     0.0  \n",
       "289     0     58        0     0.0  \n",
       "..    ...    ...      ...     ...  \n",
       "164     0      2        0     0.0  \n",
       "166     0      0        0     0.0  \n",
       "293     0      0        0     0.0  \n",
       "298     0      0        0     0.0  \n",
       "231     0      0        0     0.0  \n",
       "\n",
       "[330 rows x 10 columns]"
      ],
      "text/html": "<div>\n<style scoped>\n    .dataframe tbody tr th:only-of-type {\n        vertical-align: middle;\n    }\n\n    .dataframe tbody tr th {\n        vertical-align: top;\n    }\n\n    .dataframe thead th {\n        text-align: right;\n    }\n</style>\n<table border=\"1\" class=\"dataframe\">\n  <thead>\n    <tr style=\"text-align: right;\">\n      <th></th>\n      <th>Product Name</th>\n      <th>Price</th>\n      <th>Category</th>\n      <th>Seller Name</th>\n      <th>Location</th>\n      <th>Product URL</th>\n      <th>Sold</th>\n      <th>Views</th>\n      <th>Reviews</th>\n      <th>Rating</th>\n    </tr>\n  </thead>\n  <tbody>\n    <tr>\n      <th>143</th>\n      <td>Infinix Hot 11 4/64 Bukan Redmi Note 9 9c 9t Poco M3 10 10s 6/128 - Warna Random, InfHot 11s 4/64</td>\n      <td>2000000</td>\n      <td>Android OS</td>\n      <td>Best Sale Shop</td>\n      <td>Kota Semarang</td>\n      <td>https://www.tokopedia.com/bestsale/infinix-hot-11-4-64-bukan-redmi-note-9-9c-9t-poco-m3-10-10s-6-128-warna-random-infhot-11s-4-64</td>\n      <td>7</td>\n      <td>2388</td>\n      <td>1</td>\n      <td>5.0</td>\n    </tr>\n    <tr>\n      <th>219</th>\n      <td>Xiaomi Redmi Note 11 4GB+128GB - 6GB+128GB (Espansi Ram 6GB+2GB)</td>\n      <td>2124150</td>\n      <td>Android OS</td>\n      <td>Sutar y</td>\n      <td>Jakarta Barat</td>\n      <td>https://www.tokopedia.com/sutary/xiaomi-redmi-note-11-4gb-128gb-6gb-128gb-espansi-ram-6gb-2gb</td>\n      <td>0</td>\n      <td>8</td>\n      <td>0</td>\n      <td>0.0</td>\n    </tr>\n    <tr>\n      <th>33</th>\n      <td>Redmi Note 11 4/128 Garansi Juni 2023 Like New Fullset Ori</td>\n      <td>2275000</td>\n      <td>Android OS</td>\n      <td>RIKORA</td>\n      <td>Kota Surakarta</td>\n      <td>https://www.tokopedia.com/rikora/redmi-note-11-4-128-garansi-juni-2023-like-new-fullset-ori</td>\n      <td>0</td>\n      <td>206</td>\n      <td>0</td>\n      <td>0.0</td>\n    </tr>\n    <tr>\n      <th>34</th>\n      <td>Redmi Note 11 4/128 Garansi Juni 2023 Like New Full Ori</td>\n      <td>2290000</td>\n      <td>Android OS</td>\n      <td>RIKORA</td>\n      <td>Kota Surakarta</td>\n      <td>https://www.tokopedia.com/rikora/redmi-note-11-4-128-garansi-juni-2023-like-new-full-ori</td>\n      <td>0</td>\n      <td>90</td>\n      <td>0</td>\n      <td>0.0</td>\n    </tr>\n    <tr>\n      <th>289</th>\n      <td>XIAOMI REDMI NOTE 11 RAM 4/128 GB GARANSI RESMI BNOB</td>\n      <td>2300000</td>\n      <td>Android OS</td>\n      <td>blitzzzzzz</td>\n      <td>Kota Surabaya</td>\n      <td>https://www.tokopedia.com/blitzzzzzz/xiaomi-redmi-note-11-ram-4-128-gb-garansi-resmi-bnob</td>\n      <td>0</td>\n      <td>58</td>\n      <td>0</td>\n      <td>0.0</td>\n    </tr>\n    <tr>\n      <th>...</th>\n      <td>...</td>\n      <td>...</td>\n      <td>...</td>\n      <td>...</td>\n      <td>...</td>\n      <td>...</td>\n      <td>...</td>\n      <td>...</td>\n      <td>...</td>\n      <td>...</td>\n    </tr>\n    <tr>\n      <th>164</th>\n      <td>Xiaomi Redmi Note 11 Pro Ram 8/128GB</td>\n      <td>3800000</td>\n      <td>Android OS</td>\n      <td>Dessy_Cell</td>\n      <td>Kota Depok</td>\n      <td>https://www.tokopedia.com/oyonkun/xiaomi-redmi-note-11-pro-ram-8-128gb</td>\n      <td>0</td>\n      <td>2</td>\n      <td>0</td>\n      <td>0.0</td>\n    </tr>\n    <tr>\n      <th>166</th>\n      <td>Xiaomi Redmi Note 11 Ram 4 Gb 6 Gb Internal 128 Gb NFC Garansi Resmi</td>\n      <td>3818000</td>\n      <td>Android OS</td>\n      <td>hinatasel shop</td>\n      <td>Jakarta Selatan</td>\n      <td>https://www.tokopedia.com/hinatasel/xiaomi-redmi-note-11-ram-4-gb-6-gb-internal-128-gb-nfc-garansi-resmi</td>\n      <td>0</td>\n      <td>0</td>\n      <td>0</td>\n      <td>0.0</td>\n    </tr>\n    <tr>\n      <th>293</th>\n      <td>XIAOMI REDMI NOTE 11 NFC 4GB+128GB - 6GB+128GB [ESPANSI RAM 6GB+2GB] - Grey 4/128</td>\n      <td>3863000</td>\n      <td>Android OS</td>\n      <td>Rakkabuming</td>\n      <td>Jakarta Barat</td>\n      <td>https://www.tokopedia.com/rakkabuming/xiaomi-redmi-note-11-nfc-4gb-128gb-6gb-128gb-espansi-ram-6gb-2gb-grey-4-128</td>\n      <td>0</td>\n      <td>0</td>\n      <td>0</td>\n      <td>0.0</td>\n    </tr>\n    <tr>\n      <th>298</th>\n      <td>SALE REDMI NOTE 11 4/128 GARANSI RESMI NEW</td>\n      <td>4159000</td>\n      <td>Android OS</td>\n      <td>angel toko2</td>\n      <td>Jakarta Barat</td>\n      <td>https://www.tokopedia.com/angeltoko2/sale-redmi-note-11-4-128-garansi-resmi-new</td>\n      <td>0</td>\n      <td>0</td>\n      <td>0</td>\n      <td>0.0</td>\n    </tr>\n    <tr>\n      <th>231</th>\n      <td>Xiaomi Redmi Note 11 4Gb+128Gb 6Gb+128Gb Snapdragon 680 50Mp Ai Quad</td>\n      <td>5054300</td>\n      <td>Android OS</td>\n      <td>SAHIRA19</td>\n      <td>Kota Surabaya</td>\n      <td>https://www.tokopedia.com/sahira19/xiaomi-redmi-note-11-4gb-128gb-6gb-128gb-snapdragon-680-50mp-ai-quad</td>\n      <td>0</td>\n      <td>0</td>\n      <td>0</td>\n      <td>0.0</td>\n    </tr>\n  </tbody>\n</table>\n<p>330 rows × 10 columns</p>\n</div>"
     },
     "metadata": {},
     "execution_count": 15
    }
   ],
   "source": [
    "#belum bisa disimpulkan terdapat 278 nama produk yang berbeda, karena produk yang sama memiliki kombinasi nama yang beda\n",
    "#mencoba menyaring produk yang saya ingingkan, redmi note 11.\n",
    "#karena satu produk memiliki banyak kombinasi, maka saya cari pattern yang sesuai dg produk dan kombinasinya\n",
    "\n",
    "pat1 = r\"[note][ ][11]\" \n",
    "pat2 = r\"[Note][ ][11]\" \n",
    "pat3 = r\"[NOTE][ ][11]\" \n",
    "\n",
    "df_pat1 = df.loc[df['Product Name'].str.contains(pat1), ['Product Name','Price', 'Category', 'Seller Name', 'Location', 'Product URL', 'Sold', 'Views', 'Reviews', 'Rating']] \n",
    "df_pat2 = df.loc[df['Product Name'].str.contains(pat2), ['Product Name','Price', 'Category', 'Seller Name', 'Location', 'Product URL', 'Sold', 'Views', 'Reviews', 'Rating']]\n",
    "df_pat3 = df.loc[df['Product Name'].str.contains(pat3), ['Product Name','Price', 'Category', 'Seller Name', 'Location', 'Product URL', 'Sold', 'Views', 'Reviews', 'Rating']]\n",
    "\n",
    "df_filtered = pd.concat([df_pat1, df_pat3], ignore_index=True) #pat1 dan pat2 itu menghasilkan hal yang sama. lihat simulasi di bawah\n",
    "\n",
    "pd.options.display.max_rows=10\n",
    "\n",
    "df_filtered = df_filtered.sort_values(by=['Price'], axis=0, ascending=True)\n",
    "df_filtered \n"
   ]
  },
  {
   "cell_type": "code",
   "execution_count": 16,
   "metadata": {},
   "outputs": [
    {
     "output_type": "execute_result",
     "data": {
      "text/plain": [
       "{103,\n",
       " 111,\n",
       " 113,\n",
       " 119,\n",
       " 123,\n",
       " 128,\n",
       " 136,\n",
       " 143,\n",
       " 153,\n",
       " 162,\n",
       " 163,\n",
       " 164,\n",
       " 166,\n",
       " 171,\n",
       " 173,\n",
       " 177,\n",
       " 182,\n",
       " 186,\n",
       " 190,\n",
       " 213,\n",
       " 219,\n",
       " 226,\n",
       " 23,\n",
       " 231,\n",
       " 272,\n",
       " 275,\n",
       " 293,\n",
       " 300,\n",
       " 36,\n",
       " 38,\n",
       " 40,\n",
       " 53,\n",
       " 54,\n",
       " 58,\n",
       " 62,\n",
       " 65,\n",
       " 66,\n",
       " 70,\n",
       " 74,\n",
       " 87,\n",
       " 91,\n",
       " 93,\n",
       " 'tegar'}"
      ]
     },
     "metadata": {},
     "execution_count": 16
    }
   ],
   "source": [
    "# filter noisy datas\n",
    "# Redmi NOte 11 dengan Redmi Note 11 Pro adalah 2 produk yang berbeda\n",
    "# Redmi Note 11 punya 2 varian, 4 gb dan 6gb. Saya akan menganalisis Redmi Note 11 4gb \n",
    "\n",
    "patterns = ['6gb', '6GB', '6Gb', '6 gb', '6 GB', '6 Gb', '6/128', 'pro ', 'Pro ', 'PRO ']\n",
    "pat_indexs = {\"tegar\"}\n",
    "for pattern in patterns:\n",
    "    filter_6gb = df_filtered.loc[df_filtered['Product Name'].str.contains(pat=pattern), :]\n",
    "    list_6gb = filter_6gb.index\n",
    "    pat_indexs.update(list_6gb)\n",
    "    \n",
    "pat_indexs"
   ]
  },
  {
   "cell_type": "code",
   "execution_count": 17,
   "metadata": {},
   "outputs": [
    {
     "output_type": "execute_result",
     "data": {
      "text/plain": [
       "                                                                    Product Name  \\\n",
       "33                    Redmi Note 11 4/128 Garansi Juni 2023 Like New Fullset Ori   \n",
       "34                       Redmi Note 11 4/128 Garansi Juni 2023 Like New Full Ori   \n",
       "289                         XIAOMI REDMI NOTE 11 RAM 4/128 GB GARANSI RESMI BNOB   \n",
       "308                                               XIAOMI REDMI NOTE 11 NO REPACK   \n",
       "261               (GRATIS ONGKIR) Xiaomi Redmi Note 11 (4Gb+128GB) Garansi Resmi   \n",
       "..                                                                           ...   \n",
       "168                         Xiaomi Redmi Note 11 Ram 4Gb+128Gb Nfc Garansi Resmi   \n",
       "206          Xiaomi Redmi Note 11 (4GB+128GB) Snapdragon 680 50MP AI Quad Kamera   \n",
       "232                                           Redmi Note 11 4GB 128GB Smartphone   \n",
       "295  XIAOMI REDMI NOTE 11 4GB + 128GB GARANSI RESMI XIAOMI INDONESIA - Star Blue   \n",
       "298                                   SALE REDMI NOTE 11 4/128 GARANSI RESMI NEW   \n",
       "\n",
       "       Price    Category       Seller Name          Location  \\\n",
       "33   2275000  Android OS            RIKORA    Kota Surakarta   \n",
       "34   2290000  Android OS            RIKORA    Kota Surakarta   \n",
       "289  2300000  Android OS        blitzzzzzz     Kota Surabaya   \n",
       "308  2360000  Android OS        NegroToko1  Kab. Tulungagung   \n",
       "261  2390000  Android OS     Good Merchant    Kota Tangerang   \n",
       "..       ...         ...               ...               ...   \n",
       "168  3275000  Android OS         damario -     Jakarta Utara   \n",
       "206  3599000  Android OS  Toko Ben Makloom      Kab. Kebumen   \n",
       "232  3623600  Android OS          KIKIRANA      Kota Bandung   \n",
       "295  3639000  Android OS       Rakkabuming     Jakarta Barat   \n",
       "298  4159000  Android OS       angel toko2     Jakarta Barat   \n",
       "\n",
       "                                                                                                       Product URL  \\\n",
       "33                     https://www.tokopedia.com/rikora/redmi-note-11-4-128-garansi-juni-2023-like-new-fullset-ori   \n",
       "34                        https://www.tokopedia.com/rikora/redmi-note-11-4-128-garansi-juni-2023-like-new-full-ori   \n",
       "289                      https://www.tokopedia.com/blitzzzzzz/xiaomi-redmi-note-11-ram-4-128-gb-garansi-resmi-bnob   \n",
       "308                                            https://www.tokopedia.com/negrotoko1/xiaomi-redmi-note-11-no-repack   \n",
       "261              https://www.tokopedia.com/goodmerchant/gratis-ongkir-xiaomi-redmi-note-11-4gb-128gb-garansi-resmi   \n",
       "..                                                                                                             ...   \n",
       "168                        https://www.tokopedia.com/damario-/xiaomi-redmi-note-11-ram-4gb-128gb-nfc-garansi-resmi   \n",
       "206     https://www.tokopedia.com/tokobenmakloom/xiaomi-redmi-note-11-4gb-128gb-snapdragon-680-50mp-ai-quad-kamera   \n",
       "232                                      https://www.tokopedia.com/tokokikirana/redmi-note-11-4gb-128gb-smartphone   \n",
       "295  https://www.tokopedia.com/rakkabuming/xiaomi-redmi-note-11-4gb-128gb-garansi-resmi-xiaomi-indonesia-star-blue   \n",
       "298                                https://www.tokopedia.com/angeltoko2/sale-redmi-note-11-4-128-garansi-resmi-new   \n",
       "\n",
       "     Sold  Views  Reviews  Rating  \n",
       "33      0    206        0     0.0  \n",
       "34      0     90        0     0.0  \n",
       "289     0     58        0     0.0  \n",
       "308     0     51        0     0.0  \n",
       "261     0     29        0     0.0  \n",
       "..    ...    ...      ...     ...  \n",
       "168     0      0        0     0.0  \n",
       "206     0     14        0     0.0  \n",
       "232     0      0        0     0.0  \n",
       "295     0      0        0     0.0  \n",
       "298     0      0        0     0.0  \n",
       "\n",
       "[288 rows x 10 columns]"
      ],
      "text/html": "<div>\n<style scoped>\n    .dataframe tbody tr th:only-of-type {\n        vertical-align: middle;\n    }\n\n    .dataframe tbody tr th {\n        vertical-align: top;\n    }\n\n    .dataframe thead th {\n        text-align: right;\n    }\n</style>\n<table border=\"1\" class=\"dataframe\">\n  <thead>\n    <tr style=\"text-align: right;\">\n      <th></th>\n      <th>Product Name</th>\n      <th>Price</th>\n      <th>Category</th>\n      <th>Seller Name</th>\n      <th>Location</th>\n      <th>Product URL</th>\n      <th>Sold</th>\n      <th>Views</th>\n      <th>Reviews</th>\n      <th>Rating</th>\n    </tr>\n  </thead>\n  <tbody>\n    <tr>\n      <th>33</th>\n      <td>Redmi Note 11 4/128 Garansi Juni 2023 Like New Fullset Ori</td>\n      <td>2275000</td>\n      <td>Android OS</td>\n      <td>RIKORA</td>\n      <td>Kota Surakarta</td>\n      <td>https://www.tokopedia.com/rikora/redmi-note-11-4-128-garansi-juni-2023-like-new-fullset-ori</td>\n      <td>0</td>\n      <td>206</td>\n      <td>0</td>\n      <td>0.0</td>\n    </tr>\n    <tr>\n      <th>34</th>\n      <td>Redmi Note 11 4/128 Garansi Juni 2023 Like New Full Ori</td>\n      <td>2290000</td>\n      <td>Android OS</td>\n      <td>RIKORA</td>\n      <td>Kota Surakarta</td>\n      <td>https://www.tokopedia.com/rikora/redmi-note-11-4-128-garansi-juni-2023-like-new-full-ori</td>\n      <td>0</td>\n      <td>90</td>\n      <td>0</td>\n      <td>0.0</td>\n    </tr>\n    <tr>\n      <th>289</th>\n      <td>XIAOMI REDMI NOTE 11 RAM 4/128 GB GARANSI RESMI BNOB</td>\n      <td>2300000</td>\n      <td>Android OS</td>\n      <td>blitzzzzzz</td>\n      <td>Kota Surabaya</td>\n      <td>https://www.tokopedia.com/blitzzzzzz/xiaomi-redmi-note-11-ram-4-128-gb-garansi-resmi-bnob</td>\n      <td>0</td>\n      <td>58</td>\n      <td>0</td>\n      <td>0.0</td>\n    </tr>\n    <tr>\n      <th>308</th>\n      <td>XIAOMI REDMI NOTE 11 NO REPACK</td>\n      <td>2360000</td>\n      <td>Android OS</td>\n      <td>NegroToko1</td>\n      <td>Kab. Tulungagung</td>\n      <td>https://www.tokopedia.com/negrotoko1/xiaomi-redmi-note-11-no-repack</td>\n      <td>0</td>\n      <td>51</td>\n      <td>0</td>\n      <td>0.0</td>\n    </tr>\n    <tr>\n      <th>261</th>\n      <td>(GRATIS ONGKIR) Xiaomi Redmi Note 11 (4Gb+128GB) Garansi Resmi</td>\n      <td>2390000</td>\n      <td>Android OS</td>\n      <td>Good Merchant</td>\n      <td>Kota Tangerang</td>\n      <td>https://www.tokopedia.com/goodmerchant/gratis-ongkir-xiaomi-redmi-note-11-4gb-128gb-garansi-resmi</td>\n      <td>0</td>\n      <td>29</td>\n      <td>0</td>\n      <td>0.0</td>\n    </tr>\n    <tr>\n      <th>...</th>\n      <td>...</td>\n      <td>...</td>\n      <td>...</td>\n      <td>...</td>\n      <td>...</td>\n      <td>...</td>\n      <td>...</td>\n      <td>...</td>\n      <td>...</td>\n      <td>...</td>\n    </tr>\n    <tr>\n      <th>168</th>\n      <td>Xiaomi Redmi Note 11 Ram 4Gb+128Gb Nfc Garansi Resmi</td>\n      <td>3275000</td>\n      <td>Android OS</td>\n      <td>damario -</td>\n      <td>Jakarta Utara</td>\n      <td>https://www.tokopedia.com/damario-/xiaomi-redmi-note-11-ram-4gb-128gb-nfc-garansi-resmi</td>\n      <td>0</td>\n      <td>0</td>\n      <td>0</td>\n      <td>0.0</td>\n    </tr>\n    <tr>\n      <th>206</th>\n      <td>Xiaomi Redmi Note 11 (4GB+128GB) Snapdragon 680 50MP AI Quad Kamera</td>\n      <td>3599000</td>\n      <td>Android OS</td>\n      <td>Toko Ben Makloom</td>\n      <td>Kab. Kebumen</td>\n      <td>https://www.tokopedia.com/tokobenmakloom/xiaomi-redmi-note-11-4gb-128gb-snapdragon-680-50mp-ai-quad-kamera</td>\n      <td>0</td>\n      <td>14</td>\n      <td>0</td>\n      <td>0.0</td>\n    </tr>\n    <tr>\n      <th>232</th>\n      <td>Redmi Note 11 4GB 128GB Smartphone</td>\n      <td>3623600</td>\n      <td>Android OS</td>\n      <td>KIKIRANA</td>\n      <td>Kota Bandung</td>\n      <td>https://www.tokopedia.com/tokokikirana/redmi-note-11-4gb-128gb-smartphone</td>\n      <td>0</td>\n      <td>0</td>\n      <td>0</td>\n      <td>0.0</td>\n    </tr>\n    <tr>\n      <th>295</th>\n      <td>XIAOMI REDMI NOTE 11 4GB + 128GB GARANSI RESMI XIAOMI INDONESIA - Star Blue</td>\n      <td>3639000</td>\n      <td>Android OS</td>\n      <td>Rakkabuming</td>\n      <td>Jakarta Barat</td>\n      <td>https://www.tokopedia.com/rakkabuming/xiaomi-redmi-note-11-4gb-128gb-garansi-resmi-xiaomi-indonesia-star-blue</td>\n      <td>0</td>\n      <td>0</td>\n      <td>0</td>\n      <td>0.0</td>\n    </tr>\n    <tr>\n      <th>298</th>\n      <td>SALE REDMI NOTE 11 4/128 GARANSI RESMI NEW</td>\n      <td>4159000</td>\n      <td>Android OS</td>\n      <td>angel toko2</td>\n      <td>Jakarta Barat</td>\n      <td>https://www.tokopedia.com/angeltoko2/sale-redmi-note-11-4-128-garansi-resmi-new</td>\n      <td>0</td>\n      <td>0</td>\n      <td>0</td>\n      <td>0.0</td>\n    </tr>\n  </tbody>\n</table>\n<p>288 rows × 10 columns</p>\n</div>"
     },
     "metadata": {},
     "execution_count": 17
    }
   ],
   "source": [
    "# hapus data yang terfilter(pattern 6 gb, pro, dll)\n",
    "\n",
    "for pat_index in pat_indexs:\n",
    "    if pat_index == \"tegar\":\n",
    "        continue\n",
    "    else:\n",
    "        df_filtered = df_filtered.drop(index=pat_index)\n",
    "\n",
    "pd.options.display.max_rows=10\n",
    "\n",
    "df_filtered"
   ]
  },
  {
   "cell_type": "code",
   "execution_count": 18,
   "metadata": {},
   "outputs": [],
   "source": [
    "#df_filtered.loc[93, ['Product Name', 'Price']] #buat ngetes apakah data sudah terhapus"
   ]
  },
  {
   "cell_type": "code",
   "execution_count": 23,
   "metadata": {},
   "outputs": [],
   "source": [
    "# simpan data bersih\n",
    "save = df_filtered.to_csv('data-bersih-renot11-4gb.csv', index=False)"
   ]
  }
 ]
}